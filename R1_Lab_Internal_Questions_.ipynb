{
 "cells": [
  {
   "cell_type": "markdown",
   "metadata": {
    "colab_type": "text",
    "id": "Tu1fLNjCg99R"
   },
   "source": [
    "# Lists, Dictionaries and Sets in Python"
   ]
  },
  {
   "cell_type": "markdown",
   "metadata": {
    "colab_type": "text",
    "id": "Jg1yPnmXg99W"
   },
   "source": [
    "## Lists in Python\n",
    "\n",
    "Sequences in Python are data structures that hold objects in an ordered array. Now, we will work on Lists, the most common sequence data types in Python."
   ]
  },
  {
   "cell_type": "code",
   "execution_count": 3,
   "metadata": {
    "colab": {},
    "colab_type": "code",
    "id": "RO2yVZcvg99Y",
    "outputId": "5eeabd97-0877-4b33-b005-bf9498abcdaa"
   },
   "outputs": [
    {
     "name": "stdout",
     "output_type": "stream",
     "text": [
      "['learning', 'Python', 'is fun?', True]\n"
     ]
    }
   ],
   "source": [
    "#Example \n",
    "l1 = ['learning', \"Python\", 'is fun?', True]\n",
    "print(l1)"
   ]
  },
  {
   "cell_type": "markdown",
   "metadata": {
    "colab_type": "text",
    "id": "-hbfo-LDg99m"
   },
   "source": [
    "List can also be created by using list() function. "
   ]
  },
  {
   "cell_type": "code",
   "execution_count": 2,
   "metadata": {
    "colab": {},
    "colab_type": "code",
    "id": "5OMHt-vjg99o",
    "outputId": "96248f23-367a-4ce3-d13e-90a9915120e5"
   },
   "outputs": [
    {
     "name": "stdout",
     "output_type": "stream",
     "text": [
      "['learning', 'for', 'life', True]\n"
     ]
    }
   ],
   "source": [
    "#Example\n",
    "l2 = list((\"learning\", \"for\", \"life\", True))\n",
    "print(l2)"
   ]
  },
  {
   "cell_type": "markdown",
   "metadata": {
    "colab_type": "text",
    "id": "DoCAVG3Lg990"
   },
   "source": [
    "### Question 1\n",
    "Adding to an existing list\n",
    "\n",
    "Add 10 to list l1 given above\n",
    "\n",
    "*Hint:  Use `append()`*"
   ]
  },
  {
   "cell_type": "code",
   "execution_count": 5,
   "metadata": {
    "colab": {},
    "colab_type": "code",
    "id": "dFdVLevdg993"
   },
   "outputs": [],
   "source": [
    "l1.append(10)"
   ]
  },
  {
   "cell_type": "markdown",
   "metadata": {
    "colab_type": "text",
    "id": "it3larezg99_"
   },
   "source": [
    "### Question 2\n",
    "Removing from an existing list\n",
    "\n",
    "Remove 10 from l1\n",
    "\n",
    "*Hint: use `remove()`*"
   ]
  },
  {
   "cell_type": "code",
   "execution_count": 6,
   "metadata": {
    "colab": {},
    "colab_type": "code",
    "id": "dqlNerkag9-B"
   },
   "outputs": [],
   "source": [
    "l1.remove(10)"
   ]
  },
  {
   "cell_type": "markdown",
   "metadata": {
    "colab_type": "text",
    "id": "0UVYHBvEg9-H"
   },
   "source": [
    "### Question 3\n",
    "Join 2 lists l1 and l2\n",
    "\n",
    "Hint: use **`+`** operator or **`extend()`**"
   ]
  },
  {
   "cell_type": "code",
   "execution_count": 11,
   "metadata": {
    "colab": {},
    "colab_type": "code",
    "id": "I4iVmozUg9-f"
   },
   "outputs": [
    {
     "data": {
      "text/plain": [
       "['learning', 'Python', 'is fun?', True, 'learning', 'for', 'life', True]"
      ]
     },
     "execution_count": 11,
     "metadata": {},
     "output_type": "execute_result"
    }
   ],
   "source": [
    "l1 = ['learning', \"Python\", 'is fun?', True]\n",
    "l2 = list((\"learning\", \"for\", \"life\", True))\n",
    "l3 = l1 + l2\n",
    "l3"
   ]
  },
  {
   "cell_type": "code",
   "execution_count": 0,
   "metadata": {
    "colab": {},
    "colab_type": "code",
    "id": "VWx2vYowg9-n"
   },
   "outputs": [],
   "source": []
  },
  {
   "cell_type": "markdown",
   "metadata": {
    "colab_type": "text",
    "id": "rVjC_7pLg9-w"
   },
   "source": [
    "### Question 4\n",
    "Number List\n",
    "\n",
    "Find Range and Mean of l3.\n",
    "\n",
    "`l3 = [2,4,6,8]`\n",
    "\n",
    "Hint: use **`len()`, `sum()`, `min()`, `max()`** functions\n",
    " \n",
    "If you want to use standard functions like mean & range, you have to import them from numpy else you can calculate them the traditional way using formulas"
   ]
  },
  {
   "cell_type": "code",
   "execution_count": 36,
   "metadata": {
    "colab": {},
    "colab_type": "code",
    "id": "QElwwfaEg9-x"
   },
   "outputs": [
    {
     "name": "stdout",
     "output_type": "stream",
     "text": [
      "Range =  6\n",
      "Mean 5.0\n"
     ]
    }
   ],
   "source": [
    "l3 = [2, 4, 6, 8]\n",
    "myRange = max(l3) - min(l3)\n",
    "\n",
    "print (\"Range = \", myRange)\n",
    "print (\"Mean\", sum(l3)/len(l3))\n"
   ]
  },
  {
   "cell_type": "code",
   "execution_count": 0,
   "metadata": {
    "colab": {},
    "colab_type": "code",
    "id": "soZg5FzBg9-5"
   },
   "outputs": [],
   "source": []
  },
  {
   "cell_type": "markdown",
   "metadata": {
    "colab_type": "text",
    "id": "ZArnPU_5g9_B"
   },
   "source": [
    "### Question 5\n",
    "Count the occurances of an element in a given list\n",
    "\n",
    "Append the given sequence of numbers to l3 (given above)\n",
    "\n",
    "0, 1, 3, 3, 5, 5, 7, 9\n",
    "\n",
    "Count the occurences of 5 in l3.\n",
    "\n",
    "Hint: use **`+`** operator to add multiple elements in the array and **`count()`** function to print the occurences"
   ]
  },
  {
   "cell_type": "code",
   "execution_count": 39,
   "metadata": {
    "colab": {},
    "colab_type": "code",
    "id": "pMVmW87Og9_D"
   },
   "outputs": [
    {
     "name": "stdout",
     "output_type": "stream",
     "text": [
      "[2, 4, 6, 8, 0, 1, 3, 3, 5, 5, 7, 9]\n",
      "2\n"
     ]
    }
   ],
   "source": [
    "l4 = l3 + [0, 1, 3, 3, 5, 5, 7, 9]\n",
    "count5 = l4.count(5)\n",
    "print(l4)\n",
    "print (count5)"
   ]
  },
  {
   "cell_type": "markdown",
   "metadata": {
    "colab_type": "text",
    "id": "7SEFMGoFg9_J"
   },
   "source": [
    "### Question 6\n",
    "Sorting and Reversing a list\n",
    "\n",
    "sort and print l3 in ascending and descending order sequentially (given above)\n",
    "\n",
    "Hint: use **`sort()`** function"
   ]
  },
  {
   "cell_type": "code",
   "execution_count": 27,
   "metadata": {
    "colab": {},
    "colab_type": "code",
    "id": "Stm5CA9cg9_M"
   },
   "outputs": [
    {
     "name": "stdout",
     "output_type": "stream",
     "text": [
      "[2, 4, 6, 8]\n",
      "Assesning sorted l3\n",
      " [2, 4, 6, 8]\n",
      "Decending Order sort\n",
      " [8, 6, 4, 2]\n"
     ]
    }
   ],
   "source": [
    "print(l3)\n",
    "l3.sort()\n",
    "print(\"Assesning sorted l3\\n\", l3)\n",
    "\n",
    "l3.sort(reverse=True)\n",
    "print(\"Decending Order sort\\n\", l3)"
   ]
  },
  {
   "cell_type": "code",
   "execution_count": 0,
   "metadata": {
    "colab": {},
    "colab_type": "code",
    "id": "mSsg2Ujeg9_V"
   },
   "outputs": [],
   "source": []
  },
  {
   "cell_type": "markdown",
   "metadata": {
    "colab_type": "text",
    "id": "SSU0Z2VZg9_b"
   },
   "source": [
    "## Functions"
   ]
  },
  {
   "cell_type": "markdown",
   "metadata": {
    "colab_type": "text",
    "id": "G0W2vJQRg9_d"
   },
   "source": [
    "**Example:**\n",
    "\n",
    "**def** function_name(args)**:**\n",
    "\n",
    "    function code goes here"
   ]
  },
  {
   "cell_type": "markdown",
   "metadata": {
    "colab_type": "text",
    "id": "qy8GxanHg9_g"
   },
   "source": [
    "### Question 7\n",
    "\n",
    "Define a function with name **sum_3** which can take 3 numbers as input, and returns sum of them."
   ]
  },
  {
   "cell_type": "code",
   "execution_count": 29,
   "metadata": {
    "colab": {},
    "colab_type": "code",
    "id": "ujcu2sm8g9_j"
   },
   "outputs": [
    {
     "data": {
      "text/plain": [
       "66"
      ]
     },
     "execution_count": 29,
     "metadata": {},
     "output_type": "execute_result"
    }
   ],
   "source": [
    "def sum_3(num1 , num2, num3 ):\n",
    "    return num1 + num2 + num3\n",
    "\n",
    "sum_3( 11, 22, 33)"
   ]
  },
  {
   "cell_type": "markdown",
   "metadata": {
    "colab_type": "text",
    "id": "-fHaoR9kg9_r"
   },
   "source": [
    "## Lambda Functions"
   ]
  },
  {
   "cell_type": "markdown",
   "metadata": {
    "colab_type": "text",
    "id": "xSYJbor6g9_u"
   },
   "source": [
    "Anonymous functions or no name functions, which can be considered when you use a function only once.\n",
    "\n",
    "**Example:**\n",
    "\n",
    "f = lambda x, y : x + y\n",
    "\n",
    "f(1,1)\n",
    "\n",
    "2\n"
   ]
  },
  {
   "cell_type": "markdown",
   "metadata": {
    "colab_type": "text",
    "id": "37-U_rSvg9_w"
   },
   "source": [
    "### Question 8\n",
    "\n",
    "Write the same above **sum_3** function using lambda."
   ]
  },
  {
   "cell_type": "code",
   "execution_count": 30,
   "metadata": {
    "colab": {},
    "colab_type": "code",
    "id": "2p9wKt7ag9_y"
   },
   "outputs": [
    {
     "data": {
      "text/plain": [
       "24"
      ]
     },
     "execution_count": 30,
     "metadata": {},
     "output_type": "execute_result"
    }
   ],
   "source": [
    "mylambda = lambda x, y, z : x + y + z \n",
    "\n",
    "mylambda ( 7, 8, 9)"
   ]
  },
  {
   "cell_type": "code",
   "execution_count": 0,
   "metadata": {
    "colab": {},
    "colab_type": "code",
    "id": "wI0KCIX0g9_6"
   },
   "outputs": [],
   "source": []
  },
  {
   "cell_type": "markdown",
   "metadata": {
    "colab_type": "text",
    "id": "xuUY0WOrg-AB"
   },
   "source": [
    "# Numpy"
   ]
  },
  {
   "cell_type": "markdown",
   "metadata": {
    "colab_type": "text",
    "id": "u2xcG0neg-AD"
   },
   "source": [
    "We have seen python basic data structures in our last section. They are great but lack specialized features for data analysis. Like, adding rows, columns and operating on 2d matrices aren't readily available. So, we will use ***Numpy*** for such functions.\n",
    "\n"
   ]
  },
  {
   "cell_type": "code",
   "execution_count": 31,
   "metadata": {
    "colab": {},
    "colab_type": "code",
    "id": "t1KAncpzg-AG"
   },
   "outputs": [],
   "source": [
    "import numpy as np"
   ]
  },
  {
   "cell_type": "markdown",
   "metadata": {
    "colab_type": "text",
    "id": "q3bNJQ-cg-AT"
   },
   "source": [
    "Numpy operates on *nd* arrays. These are similar to lists but contains homogenous elements but easier to store 2-d data."
   ]
  },
  {
   "cell_type": "code",
   "execution_count": 32,
   "metadata": {
    "colab": {},
    "colab_type": "code",
    "id": "Yrw8bNIMg-AV",
    "outputId": "c565e08c-f197-45f4-94e9-b101783a2eb8"
   },
   "outputs": [
    {
     "name": "stdout",
     "output_type": "stream",
     "text": [
      "[1 2 3 4]\n",
      "<class 'numpy.ndarray'>\n",
      "[[1 2 3 4]\n",
      " [5 6 7 8]]\n"
     ]
    }
   ],
   "source": [
    "l1 = [1,2,3,4]\n",
    "nd1 = np.array(l1)\n",
    "print(nd1)\n",
    "print (type(nd1))\n",
    "\n",
    "l2 = [5,6,7,8]\n",
    "nd2 = np.array([l1,l2])\n",
    "print(nd2)"
   ]
  },
  {
   "cell_type": "markdown",
   "metadata": {
    "colab_type": "text",
    "id": "dpAqsxVQg-Ap"
   },
   "source": [
    "Some functions on np.array()"
   ]
  },
  {
   "cell_type": "code",
   "execution_count": 34,
   "metadata": {
    "colab": {},
    "colab_type": "code",
    "id": "qN6Ow521g-As",
    "outputId": "b29853d6-60d3-405f-b359-e87cd56a10f1"
   },
   "outputs": [
    {
     "name": "stdout",
     "output_type": "stream",
     "text": [
      "Shape() =  (2, 4)\n",
      "Size =  8\n",
      "dtype =  int32\n"
     ]
    }
   ],
   "source": [
    "print(\"Shape() = \", nd2.shape)\n",
    "\n",
    "print(\"Size = \" , nd2.size)\n",
    "\n",
    "print(\"dtype = \", nd2.dtype)"
   ]
  },
  {
   "cell_type": "markdown",
   "metadata": {
    "colab_type": "text",
    "id": "v5V_c9kqg-A4"
   },
   "source": [
    "### Question 1\n",
    "\n",
    "Create an identity 2d-array or matrix (with ones across the diagonal).\n",
    "\n",
    "Hint: You can also use **`np.identity()`** function"
   ]
  },
  {
   "cell_type": "code",
   "execution_count": 35,
   "metadata": {
    "colab": {},
    "colab_type": "code",
    "id": "yLdPPu9hg-A7"
   },
   "outputs": [
    {
     "name": "stdout",
     "output_type": "stream",
     "text": [
      "[[1. 0.]\n",
      " [0. 1.]]\n"
     ]
    }
   ],
   "source": [
    "r1 = np.identity(2)\n",
    "print(r1)"
   ]
  },
  {
   "cell_type": "markdown",
   "metadata": {
    "colab_type": "text",
    "id": "zUEn0BqZg-BF"
   },
   "source": [
    "### Question 2\n",
    "\n",
    "Create a 2d-array or matrix of order 3x3 with values = 9, 8, 7, 6, 5, 4, 3, 2, 1 arranged in the same order\n",
    "\n",
    "Use: **`np.matrix()`** function\n",
    "\n"
   ]
  },
  {
   "cell_type": "code",
   "execution_count": 46,
   "metadata": {
    "colab": {},
    "colab_type": "code",
    "id": "P_8dClVmg-BH"
   },
   "outputs": [
    {
     "name": "stdout",
     "output_type": "stream",
     "text": [
      "[[9 8 7]\n",
      " [6 5 4]\n",
      " [3 2 1]]\n"
     ]
    }
   ],
   "source": [
    "r2 = np.matrix([[9, 8, 7], [6, 5, 4], [3, 2, 1]])\n",
    "print(r2)"
   ]
  },
  {
   "cell_type": "code",
   "execution_count": 0,
   "metadata": {
    "colab": {},
    "colab_type": "code",
    "id": "mWt2Qfe8g-BO"
   },
   "outputs": [],
   "source": []
  },
  {
   "cell_type": "markdown",
   "metadata": {
    "colab_type": "text",
    "id": "g3obECsQg-Bd"
   },
   "source": [
    "### Question 3\n",
    "\n",
    "Reverse both the rows and columns of the given matrix.\n",
    "\n",
    "Hint: You can use the transpose **.T**"
   ]
  },
  {
   "cell_type": "code",
   "execution_count": 56,
   "metadata": {
    "colab": {},
    "colab_type": "code",
    "id": "0RkulEHvg-Bf"
   },
   "outputs": [
    {
     "name": "stdout",
     "output_type": "stream",
     "text": [
      "[[9 6 3]\n",
      " [8 5 2]\n",
      " [7 4 1]]\n"
     ]
    }
   ],
   "source": [
    "np.transpose(r2)\n",
    "\n",
    "print(r2.T)"
   ]
  },
  {
   "cell_type": "code",
   "execution_count": 0,
   "metadata": {
    "colab": {},
    "colab_type": "code",
    "id": "1qo73F5og-Bk"
   },
   "outputs": [],
   "source": []
  },
  {
   "cell_type": "markdown",
   "metadata": {
    "colab_type": "text",
    "id": "3GtTLM4Rg-Bp"
   },
   "source": [
    "### Question 4\n",
    "Add (+) 1 to all the elements in the given matrix."
   ]
  },
  {
   "cell_type": "code",
   "execution_count": 59,
   "metadata": {
    "colab": {},
    "colab_type": "code",
    "id": "eHwlGe-3g-Br"
   },
   "outputs": [
    {
     "name": "stdout",
     "output_type": "stream",
     "text": [
      "[[9 8 7]\n",
      " [6 5 4]\n",
      " [3 2 1]]\n"
     ]
    },
    {
     "data": {
      "text/plain": [
       "matrix([[10,  9,  8],\n",
       "        [ 7,  6,  5],\n",
       "        [ 4,  3,  2]])"
      ]
     },
     "execution_count": 59,
     "metadata": {},
     "output_type": "execute_result"
    }
   ],
   "source": [
    "print(r2)\n",
    "r2 + 1 "
   ]
  },
  {
   "cell_type": "code",
   "execution_count": 0,
   "metadata": {
    "colab": {},
    "colab_type": "code",
    "id": "H-EnDPL4g-B2"
   },
   "outputs": [],
   "source": []
  },
  {
   "cell_type": "markdown",
   "metadata": {
    "colab_type": "text",
    "id": "wd_5aQlDg-CC"
   },
   "source": [
    "Similarly you can do operations like scalar  substraction, division, multiplication (operating on each element in the matrix)"
   ]
  },
  {
   "cell_type": "markdown",
   "metadata": {
    "colab_type": "text",
    "id": "76qwAc5Yg-CE"
   },
   "source": [
    "### Question 5\n",
    "\n",
    "Find the mean of all elements in the given matrix nd6.\n",
    "\n",
    "nd6 = [[  1   4   9 121 144 169]\n",
    " [ 16  25  36 196 225 256]\n",
    " [ 49  64  81 289 324 361]]\n",
    " \n",
    " Use: **.mean()** function\n"
   ]
  },
  {
   "cell_type": "code",
   "execution_count": 71,
   "metadata": {
    "colab": {},
    "colab_type": "code",
    "id": "7pWNZQmpg-CG"
   },
   "outputs": [
    {
     "name": "stdout",
     "output_type": "stream",
     "text": [
      "[[  1   4   9 121 144 169]\n",
      " [ 16  25  36 196 225 256]\n",
      " [ 49  64  81 289 324 361]]\n",
      "Mean 131.66666666666666\n"
     ]
    }
   ],
   "source": [
    "nd6 = np.matrix( \"1, 4, 9, 121, 144, 169; 16, 25, 36, 196, 225, 256;  49, 64, 81, 289, 324, 361\")\n",
    "\n",
    "print(nd6)\n",
    "\n",
    "print(\"Mean\", np.mean(nd6))"
   ]
  },
  {
   "cell_type": "code",
   "execution_count": 0,
   "metadata": {
    "colab": {},
    "colab_type": "code",
    "id": "kpyKZLVug-CK"
   },
   "outputs": [],
   "source": []
  },
  {
   "cell_type": "markdown",
   "metadata": {
    "colab_type": "text",
    "id": "YUCgup9ig-CP"
   },
   "source": [
    "### Question 6\n",
    "\n",
    "Find the dot product of two given matrices.\n",
    "\n",
    "Hint: use **`np.dot()`**"
   ]
  },
  {
   "cell_type": "code",
   "execution_count": 72,
   "metadata": {
    "colab": {},
    "colab_type": "code",
    "id": "aXsTjBlrg-CR"
   },
   "outputs": [
    {
     "name": "stdout",
     "output_type": "stream",
     "text": [
      "r2 = \n",
      " [[9 8 7]\n",
      " [6 5 4]\n",
      " [3 2 1]]\n",
      "nd6 = \n",
      " [[  1   4   9 121 144 169]\n",
      " [ 16  25  36 196 225 256]\n",
      " [ 49  64  81 289 324 361]]\n"
     ]
    },
    {
     "data": {
      "text/plain": [
       "matrix([[ 480,  684,  936, 4680, 5364, 6096],\n",
       "        [ 282,  405,  558, 2862, 3285, 3738],\n",
       "        [  84,  126,  180, 1044, 1206, 1380]])"
      ]
     },
     "execution_count": 72,
     "metadata": {},
     "output_type": "execute_result"
    }
   ],
   "source": [
    "print(\"r2 = \\n\", r2)\n",
    "print(\"nd6 = \\n\", nd6)\n",
    "np.dot(r2, nd6)"
   ]
  },
  {
   "cell_type": "code",
   "execution_count": 0,
   "metadata": {
    "colab": {},
    "colab_type": "code",
    "id": "OR7xmatng-CX"
   },
   "outputs": [],
   "source": []
  },
  {
   "cell_type": "code",
   "execution_count": 0,
   "metadata": {
    "colab": {},
    "colab_type": "code",
    "id": "UhZlaAIgg-Ce"
   },
   "outputs": [],
   "source": []
  },
  {
   "cell_type": "markdown",
   "metadata": {
    "colab_type": "text",
    "id": "a4lg1Xozg-Ci"
   },
   "source": [
    "# Pandas"
   ]
  },
  {
   "cell_type": "markdown",
   "metadata": {
    "colab_type": "text",
    "id": "S5cInY5gg-Ck"
   },
   "source": [
    "We have seen Numpy in the last section. It is good at performing math operations on 2d-arrays of numbers. But the major drawback is, it cannot deal with heterogenous values. So, Pandas dataframes are helpful in that aspect for storing different data types and referring the values like a dict in python instead of just referring each item with index.\n",
    "\n",
    "[Link to Official Documentation](https://pandas.pydata.org/pandas-docs/stable/)"
   ]
  },
  {
   "cell_type": "markdown",
   "metadata": {
    "colab_type": "text",
    "id": "VrmuqwV2g-Cn"
   },
   "source": [
    "## Series"
   ]
  },
  {
   "cell_type": "markdown",
   "metadata": {
    "colab_type": "text",
    "id": "cRFku4nfg-Co"
   },
   "source": [
    "Pandas series are almost same as nd arrays in numpy, with a additional inferencing ability with custom labels like *keys* in a *dictionary* in python."
   ]
  },
  {
   "cell_type": "code",
   "execution_count": 73,
   "metadata": {
    "colab": {},
    "colab_type": "code",
    "id": "F8phs9JTg-Cp"
   },
   "outputs": [],
   "source": [
    "import numpy as np\n",
    "import pandas as pd"
   ]
  },
  {
   "cell_type": "code",
   "execution_count": 74,
   "metadata": {
    "colab": {},
    "colab_type": "code",
    "id": "UIkEeLkKg-Cu",
    "outputId": "0985ff57-5c95-4013-dbe2-66f7662124ca"
   },
   "outputs": [
    {
     "data": {
      "text/plain": [
       "key1    1\n",
       "key2    2\n",
       "key3    3\n",
       "dtype: int64"
      ]
     },
     "execution_count": 74,
     "metadata": {},
     "output_type": "execute_result"
    }
   ],
   "source": [
    "#Example\n",
    "\n",
    "series1 = pd.Series(data = [1,2,3], index = ['key1', 'key2', 'key3'])\n",
    "series1"
   ]
  },
  {
   "cell_type": "markdown",
   "metadata": {
    "colab_type": "text",
    "id": "PlFdcxAqg-C7"
   },
   "source": [
    "### Question 1\n",
    "\n",
    "Convert a given dict to pd series.\n",
    "\n",
    "Hint: use **`.Series`**"
   ]
  },
  {
   "cell_type": "code",
   "execution_count": 76,
   "metadata": {
    "colab": {},
    "colab_type": "code",
    "id": "TRvPDxlPg-C8"
   },
   "outputs": [],
   "source": [
    "d1 = {'a': 1, 'b': 2, 'c': 3}"
   ]
  },
  {
   "cell_type": "code",
   "execution_count": 84,
   "metadata": {
    "colab": {},
    "colab_type": "code",
    "id": "Vv1F8J8dg-DF"
   },
   "outputs": [
    {
     "data": {
      "text/plain": [
       "a    1\n",
       "b    2\n",
       "c    3\n",
       "dtype: int64"
      ]
     },
     "execution_count": 84,
     "metadata": {},
     "output_type": "execute_result"
    }
   ],
   "source": [
    "series2 = pd.Series(d1)\n",
    "series2"
   ]
  },
  {
   "cell_type": "markdown",
   "metadata": {
    "colab_type": "text",
    "id": "OiAe6_s0g-DK"
   },
   "source": [
    "You can directly use numpy functions on series.\n",
    "### Question 2\n",
    "\n",
    "Find the dot product of both the series create above\n",
    "\n",
    "\n",
    "Hint: use **`np.dot()`**"
   ]
  },
  {
   "cell_type": "code",
   "execution_count": 85,
   "metadata": {
    "colab": {},
    "colab_type": "code",
    "id": "-TOD8TS1g-DL"
   },
   "outputs": [
    {
     "data": {
      "text/plain": [
       "14"
      ]
     },
     "execution_count": 85,
     "metadata": {},
     "output_type": "execute_result"
    }
   ],
   "source": [
    "np.dot(series1, series2 )"
   ]
  },
  {
   "cell_type": "markdown",
   "metadata": {
    "colab_type": "text",
    "id": "4aiI7AqIg-DP"
   },
   "source": [
    "## Dataframes"
   ]
  },
  {
   "cell_type": "markdown",
   "metadata": {
    "colab_type": "text",
    "id": "Ocn05iWrg-DQ"
   },
   "source": [
    "A dataframe is a table with labeled columns which can hold different types of data in each column. "
   ]
  },
  {
   "cell_type": "code",
   "execution_count": 90,
   "metadata": {
    "colab": {},
    "colab_type": "code",
    "id": "ZO69jyAIg-DW",
    "outputId": "bc5fcf7c-d5f2-4a15-9a5d-33391ed4d43e"
   },
   "outputs": [
    {
     "data": {
      "text/html": [
       "<div>\n",
       "<style scoped>\n",
       "    .dataframe tbody tr th:only-of-type {\n",
       "        vertical-align: middle;\n",
       "    }\n",
       "\n",
       "    .dataframe tbody tr th {\n",
       "        vertical-align: top;\n",
       "    }\n",
       "\n",
       "    .dataframe thead th {\n",
       "        text-align: right;\n",
       "    }\n",
       "</style>\n",
       "<table border=\"1\" class=\"dataframe\">\n",
       "  <thead>\n",
       "    <tr style=\"text-align: right;\">\n",
       "      <th></th>\n",
       "      <th>a</th>\n",
       "      <th>b</th>\n",
       "      <th>c</th>\n",
       "    </tr>\n",
       "  </thead>\n",
       "  <tbody>\n",
       "    <tr>\n",
       "      <td>0</td>\n",
       "      <td>1</td>\n",
       "      <td>3</td>\n",
       "      <td>6</td>\n",
       "    </tr>\n",
       "    <tr>\n",
       "      <td>1</td>\n",
       "      <td>2</td>\n",
       "      <td>4</td>\n",
       "      <td>7</td>\n",
       "    </tr>\n",
       "    <tr>\n",
       "      <td>2</td>\n",
       "      <td>3</td>\n",
       "      <td>5</td>\n",
       "      <td>8</td>\n",
       "    </tr>\n",
       "  </tbody>\n",
       "</table>\n",
       "</div>"
      ],
      "text/plain": [
       "   a  b  c\n",
       "0  1  3  6\n",
       "1  2  4  7\n",
       "2  3  5  8"
      ]
     },
     "execution_count": 90,
     "metadata": {},
     "output_type": "execute_result"
    }
   ],
   "source": [
    "# Example\n",
    "d1 = {'a': [1,2,3], 'b': [3,4,5], 'c':[6,7,8] }\n",
    "df1 = pd.DataFrame(d1)\n",
    "df1"
   ]
  },
  {
   "cell_type": "markdown",
   "metadata": {
    "colab_type": "text",
    "id": "3D1kIq5Zg-Do"
   },
   "source": [
    "### Question 3\n",
    "\n",
    "Select second row in the above dataframe df1.\n",
    "\n"
   ]
  },
  {
   "cell_type": "code",
   "execution_count": 101,
   "metadata": {
    "colab": {},
    "colab_type": "code",
    "id": "xwMIoekYg-Dq"
   },
   "outputs": [
    {
     "name": "stdout",
     "output_type": "stream",
     "text": [
      "------Using iloc\n",
      "    a  b  c\n",
      "1  2  4  7\n",
      "-------Using slicing\n",
      "    a  b  c\n",
      "1  2  4  7\n"
     ]
    }
   ],
   "source": [
    "print(\"------Using iloc\\n\", df1.iloc[1:2])\n",
    "\n",
    "print(\"-------Using slicing\\n\", df1[1:2])"
   ]
  },
  {
   "cell_type": "markdown",
   "metadata": {
    "colab_type": "text",
    "id": "v4uvOToUg-Dy"
   },
   "source": [
    "### Question 4\n",
    "\n",
    "Select column c in second row of df1.\n",
    "\n",
    "Hint: For using labels use **`df.loc[row, column]`**\n",
    "\n",
    "For using numeric indexed use **`df.iloc[]`**\n",
    "\n",
    "For using mixture of numeric indexes and labels use **`df.ix[row, column]`**\n",
    "\n"
   ]
  },
  {
   "cell_type": "code",
   "execution_count": 131,
   "metadata": {
    "colab": {},
    "colab_type": "code",
    "id": "_SMo-dzPg-D2"
   },
   "outputs": [
    {
     "name": "stdout",
     "output_type": "stream",
     "text": [
      "   a  b  c\n",
      "0  1  3  6\n",
      "1  2  4  7\n",
      "2  3  5  8\n"
     ]
    },
    {
     "data": {
      "text/plain": [
       "7"
      ]
     },
     "execution_count": 131,
     "metadata": {},
     "output_type": "execute_result"
    }
   ],
   "source": [
    "print(df1)\n",
    "\n",
    "df1.loc[1,\"c\"]"
   ]
  },
  {
   "cell_type": "markdown",
   "metadata": {
    "colab_type": "text",
    "id": "d5-rXU4Gg-EB"
   },
   "source": [
    "## Using Dataframes on a dataset"
   ]
  },
  {
   "cell_type": "markdown",
   "metadata": {
    "colab_type": "text",
    "id": "Ea5fSpL4g-ED"
   },
   "source": [
    "### Using the mtcars dataset.\n",
    "\n",
    "For the below set of questions, we will be using the cars data from [Motor Trend Car Road Tests](http://stat.ethz.ch/R-manual/R-devel/library/datasets/html/mtcars.html)\n",
    "\n",
    "The data was extracted from the 1974 Motor Trend US magazine, and comprises fuel consumption and 10 aspects of automobile design and performance for 32 automobiles (1973–74 models). \n",
    "\n",
    "\n",
    "Details :\n",
    "    \n",
    "A data frame with 32 observations on 11 (numeric) variables.\n",
    "\n",
    "1. mpg \tMiles/(US) gallon\n",
    "2. cyl \tNumber of cylinders\n",
    "3. disp \tDisplacement (cu.in.)\n",
    "4. hp \tGross horsepower\n",
    "5. drat \tRear axle ratio\n",
    "6. wt \tWeight (1000 lbs)\n",
    "7. qsec \t1/4 mile time\n",
    "8. vs \tEngine (0 = V-shaped, 1 = straight)\n",
    "9. am \tTransmission (0 = automatic, 1 = manual)\n",
    "10. gear \tNumber of forward gears\n",
    "11. carb \tNumber of carburetors \n"
   ]
  },
  {
   "cell_type": "code",
   "execution_count": 134,
   "metadata": {
    "colab": {},
    "colab_type": "code",
    "id": "8GofP1DJg-EG"
   },
   "outputs": [
    {
     "data": {
      "text/html": [
       "<div>\n",
       "<style scoped>\n",
       "    .dataframe tbody tr th:only-of-type {\n",
       "        vertical-align: middle;\n",
       "    }\n",
       "\n",
       "    .dataframe tbody tr th {\n",
       "        vertical-align: top;\n",
       "    }\n",
       "\n",
       "    .dataframe thead th {\n",
       "        text-align: right;\n",
       "    }\n",
       "</style>\n",
       "<table border=\"1\" class=\"dataframe\">\n",
       "  <thead>\n",
       "    <tr style=\"text-align: right;\">\n",
       "      <th></th>\n",
       "      <th>name</th>\n",
       "      <th>mpg</th>\n",
       "      <th>cyl</th>\n",
       "      <th>disp</th>\n",
       "      <th>hp</th>\n",
       "      <th>drat</th>\n",
       "      <th>wt</th>\n",
       "      <th>qsec</th>\n",
       "      <th>vs</th>\n",
       "      <th>am</th>\n",
       "      <th>gear</th>\n",
       "      <th>carb</th>\n",
       "    </tr>\n",
       "    <tr>\n",
       "      <th>name</th>\n",
       "      <th></th>\n",
       "      <th></th>\n",
       "      <th></th>\n",
       "      <th></th>\n",
       "      <th></th>\n",
       "      <th></th>\n",
       "      <th></th>\n",
       "      <th></th>\n",
       "      <th></th>\n",
       "      <th></th>\n",
       "      <th></th>\n",
       "      <th></th>\n",
       "    </tr>\n",
       "  </thead>\n",
       "  <tbody>\n",
       "    <tr>\n",
       "      <td>Mazda RX4</td>\n",
       "      <td>Mazda RX4</td>\n",
       "      <td>21.0</td>\n",
       "      <td>6</td>\n",
       "      <td>160.0</td>\n",
       "      <td>110</td>\n",
       "      <td>3.90</td>\n",
       "      <td>2.620</td>\n",
       "      <td>16.46</td>\n",
       "      <td>0</td>\n",
       "      <td>1</td>\n",
       "      <td>4</td>\n",
       "      <td>4</td>\n",
       "    </tr>\n",
       "    <tr>\n",
       "      <td>Mazda RX4 Wag</td>\n",
       "      <td>Mazda RX4 Wag</td>\n",
       "      <td>21.0</td>\n",
       "      <td>6</td>\n",
       "      <td>160.0</td>\n",
       "      <td>110</td>\n",
       "      <td>3.90</td>\n",
       "      <td>2.875</td>\n",
       "      <td>17.02</td>\n",
       "      <td>0</td>\n",
       "      <td>1</td>\n",
       "      <td>4</td>\n",
       "      <td>4</td>\n",
       "    </tr>\n",
       "    <tr>\n",
       "      <td>Datsun 710</td>\n",
       "      <td>Datsun 710</td>\n",
       "      <td>22.8</td>\n",
       "      <td>4</td>\n",
       "      <td>108.0</td>\n",
       "      <td>93</td>\n",
       "      <td>3.85</td>\n",
       "      <td>2.320</td>\n",
       "      <td>18.61</td>\n",
       "      <td>1</td>\n",
       "      <td>1</td>\n",
       "      <td>4</td>\n",
       "      <td>1</td>\n",
       "    </tr>\n",
       "    <tr>\n",
       "      <td>Hornet 4 Drive</td>\n",
       "      <td>Hornet 4 Drive</td>\n",
       "      <td>21.4</td>\n",
       "      <td>6</td>\n",
       "      <td>258.0</td>\n",
       "      <td>110</td>\n",
       "      <td>3.08</td>\n",
       "      <td>3.215</td>\n",
       "      <td>19.44</td>\n",
       "      <td>1</td>\n",
       "      <td>0</td>\n",
       "      <td>3</td>\n",
       "      <td>1</td>\n",
       "    </tr>\n",
       "    <tr>\n",
       "      <td>Hornet Sportabout</td>\n",
       "      <td>Hornet Sportabout</td>\n",
       "      <td>18.7</td>\n",
       "      <td>8</td>\n",
       "      <td>360.0</td>\n",
       "      <td>175</td>\n",
       "      <td>3.15</td>\n",
       "      <td>3.440</td>\n",
       "      <td>17.02</td>\n",
       "      <td>0</td>\n",
       "      <td>0</td>\n",
       "      <td>3</td>\n",
       "      <td>2</td>\n",
       "    </tr>\n",
       "    <tr>\n",
       "      <td>Valiant</td>\n",
       "      <td>Valiant</td>\n",
       "      <td>18.1</td>\n",
       "      <td>6</td>\n",
       "      <td>225.0</td>\n",
       "      <td>105</td>\n",
       "      <td>2.76</td>\n",
       "      <td>3.460</td>\n",
       "      <td>20.22</td>\n",
       "      <td>1</td>\n",
       "      <td>0</td>\n",
       "      <td>3</td>\n",
       "      <td>1</td>\n",
       "    </tr>\n",
       "    <tr>\n",
       "      <td>Duster 360</td>\n",
       "      <td>Duster 360</td>\n",
       "      <td>14.3</td>\n",
       "      <td>8</td>\n",
       "      <td>360.0</td>\n",
       "      <td>245</td>\n",
       "      <td>3.21</td>\n",
       "      <td>3.570</td>\n",
       "      <td>15.84</td>\n",
       "      <td>0</td>\n",
       "      <td>0</td>\n",
       "      <td>3</td>\n",
       "      <td>4</td>\n",
       "    </tr>\n",
       "    <tr>\n",
       "      <td>Merc 240D</td>\n",
       "      <td>Merc 240D</td>\n",
       "      <td>24.4</td>\n",
       "      <td>4</td>\n",
       "      <td>146.7</td>\n",
       "      <td>62</td>\n",
       "      <td>3.69</td>\n",
       "      <td>3.190</td>\n",
       "      <td>20.00</td>\n",
       "      <td>1</td>\n",
       "      <td>0</td>\n",
       "      <td>4</td>\n",
       "      <td>2</td>\n",
       "    </tr>\n",
       "    <tr>\n",
       "      <td>Merc 230</td>\n",
       "      <td>Merc 230</td>\n",
       "      <td>22.8</td>\n",
       "      <td>4</td>\n",
       "      <td>140.8</td>\n",
       "      <td>95</td>\n",
       "      <td>3.92</td>\n",
       "      <td>3.150</td>\n",
       "      <td>22.90</td>\n",
       "      <td>1</td>\n",
       "      <td>0</td>\n",
       "      <td>4</td>\n",
       "      <td>2</td>\n",
       "    </tr>\n",
       "    <tr>\n",
       "      <td>Merc 280</td>\n",
       "      <td>Merc 280</td>\n",
       "      <td>19.2</td>\n",
       "      <td>6</td>\n",
       "      <td>167.6</td>\n",
       "      <td>123</td>\n",
       "      <td>3.92</td>\n",
       "      <td>3.440</td>\n",
       "      <td>18.30</td>\n",
       "      <td>1</td>\n",
       "      <td>0</td>\n",
       "      <td>4</td>\n",
       "      <td>4</td>\n",
       "    </tr>\n",
       "    <tr>\n",
       "      <td>Merc 280C</td>\n",
       "      <td>Merc 280C</td>\n",
       "      <td>17.8</td>\n",
       "      <td>6</td>\n",
       "      <td>167.6</td>\n",
       "      <td>123</td>\n",
       "      <td>3.92</td>\n",
       "      <td>3.440</td>\n",
       "      <td>18.90</td>\n",
       "      <td>1</td>\n",
       "      <td>0</td>\n",
       "      <td>4</td>\n",
       "      <td>4</td>\n",
       "    </tr>\n",
       "    <tr>\n",
       "      <td>Merc 450SE</td>\n",
       "      <td>Merc 450SE</td>\n",
       "      <td>16.4</td>\n",
       "      <td>8</td>\n",
       "      <td>275.8</td>\n",
       "      <td>180</td>\n",
       "      <td>3.07</td>\n",
       "      <td>4.070</td>\n",
       "      <td>17.40</td>\n",
       "      <td>0</td>\n",
       "      <td>0</td>\n",
       "      <td>3</td>\n",
       "      <td>3</td>\n",
       "    </tr>\n",
       "    <tr>\n",
       "      <td>Merc 450SL</td>\n",
       "      <td>Merc 450SL</td>\n",
       "      <td>17.3</td>\n",
       "      <td>8</td>\n",
       "      <td>275.8</td>\n",
       "      <td>180</td>\n",
       "      <td>3.07</td>\n",
       "      <td>3.730</td>\n",
       "      <td>17.60</td>\n",
       "      <td>0</td>\n",
       "      <td>0</td>\n",
       "      <td>3</td>\n",
       "      <td>3</td>\n",
       "    </tr>\n",
       "    <tr>\n",
       "      <td>Merc 450SLC</td>\n",
       "      <td>Merc 450SLC</td>\n",
       "      <td>15.2</td>\n",
       "      <td>8</td>\n",
       "      <td>275.8</td>\n",
       "      <td>180</td>\n",
       "      <td>3.07</td>\n",
       "      <td>3.780</td>\n",
       "      <td>18.00</td>\n",
       "      <td>0</td>\n",
       "      <td>0</td>\n",
       "      <td>3</td>\n",
       "      <td>3</td>\n",
       "    </tr>\n",
       "    <tr>\n",
       "      <td>Cadillac Fleetwood</td>\n",
       "      <td>Cadillac Fleetwood</td>\n",
       "      <td>10.4</td>\n",
       "      <td>8</td>\n",
       "      <td>472.0</td>\n",
       "      <td>205</td>\n",
       "      <td>2.93</td>\n",
       "      <td>5.250</td>\n",
       "      <td>17.98</td>\n",
       "      <td>0</td>\n",
       "      <td>0</td>\n",
       "      <td>3</td>\n",
       "      <td>4</td>\n",
       "    </tr>\n",
       "    <tr>\n",
       "      <td>Lincoln Continental</td>\n",
       "      <td>Lincoln Continental</td>\n",
       "      <td>10.4</td>\n",
       "      <td>8</td>\n",
       "      <td>460.0</td>\n",
       "      <td>215</td>\n",
       "      <td>3.00</td>\n",
       "      <td>5.424</td>\n",
       "      <td>17.82</td>\n",
       "      <td>0</td>\n",
       "      <td>0</td>\n",
       "      <td>3</td>\n",
       "      <td>4</td>\n",
       "    </tr>\n",
       "    <tr>\n",
       "      <td>Chrysler Imperial</td>\n",
       "      <td>Chrysler Imperial</td>\n",
       "      <td>14.7</td>\n",
       "      <td>8</td>\n",
       "      <td>440.0</td>\n",
       "      <td>230</td>\n",
       "      <td>3.23</td>\n",
       "      <td>5.345</td>\n",
       "      <td>17.42</td>\n",
       "      <td>0</td>\n",
       "      <td>0</td>\n",
       "      <td>3</td>\n",
       "      <td>4</td>\n",
       "    </tr>\n",
       "    <tr>\n",
       "      <td>Fiat 128</td>\n",
       "      <td>Fiat 128</td>\n",
       "      <td>32.4</td>\n",
       "      <td>4</td>\n",
       "      <td>78.7</td>\n",
       "      <td>66</td>\n",
       "      <td>4.08</td>\n",
       "      <td>2.200</td>\n",
       "      <td>19.47</td>\n",
       "      <td>1</td>\n",
       "      <td>1</td>\n",
       "      <td>4</td>\n",
       "      <td>1</td>\n",
       "    </tr>\n",
       "    <tr>\n",
       "      <td>Honda Civic</td>\n",
       "      <td>Honda Civic</td>\n",
       "      <td>30.4</td>\n",
       "      <td>4</td>\n",
       "      <td>75.7</td>\n",
       "      <td>52</td>\n",
       "      <td>4.93</td>\n",
       "      <td>1.615</td>\n",
       "      <td>18.52</td>\n",
       "      <td>1</td>\n",
       "      <td>1</td>\n",
       "      <td>4</td>\n",
       "      <td>2</td>\n",
       "    </tr>\n",
       "    <tr>\n",
       "      <td>Toyota Corolla</td>\n",
       "      <td>Toyota Corolla</td>\n",
       "      <td>33.9</td>\n",
       "      <td>4</td>\n",
       "      <td>71.1</td>\n",
       "      <td>65</td>\n",
       "      <td>4.22</td>\n",
       "      <td>1.835</td>\n",
       "      <td>19.90</td>\n",
       "      <td>1</td>\n",
       "      <td>1</td>\n",
       "      <td>4</td>\n",
       "      <td>1</td>\n",
       "    </tr>\n",
       "    <tr>\n",
       "      <td>Toyota Corona</td>\n",
       "      <td>Toyota Corona</td>\n",
       "      <td>21.5</td>\n",
       "      <td>4</td>\n",
       "      <td>120.1</td>\n",
       "      <td>97</td>\n",
       "      <td>3.70</td>\n",
       "      <td>2.465</td>\n",
       "      <td>20.01</td>\n",
       "      <td>1</td>\n",
       "      <td>0</td>\n",
       "      <td>3</td>\n",
       "      <td>1</td>\n",
       "    </tr>\n",
       "    <tr>\n",
       "      <td>Dodge Challenger</td>\n",
       "      <td>Dodge Challenger</td>\n",
       "      <td>15.5</td>\n",
       "      <td>8</td>\n",
       "      <td>318.0</td>\n",
       "      <td>150</td>\n",
       "      <td>2.76</td>\n",
       "      <td>3.520</td>\n",
       "      <td>16.87</td>\n",
       "      <td>0</td>\n",
       "      <td>0</td>\n",
       "      <td>3</td>\n",
       "      <td>2</td>\n",
       "    </tr>\n",
       "    <tr>\n",
       "      <td>AMC Javelin</td>\n",
       "      <td>AMC Javelin</td>\n",
       "      <td>15.2</td>\n",
       "      <td>8</td>\n",
       "      <td>304.0</td>\n",
       "      <td>150</td>\n",
       "      <td>3.15</td>\n",
       "      <td>3.435</td>\n",
       "      <td>17.30</td>\n",
       "      <td>0</td>\n",
       "      <td>0</td>\n",
       "      <td>3</td>\n",
       "      <td>2</td>\n",
       "    </tr>\n",
       "    <tr>\n",
       "      <td>Camaro Z28</td>\n",
       "      <td>Camaro Z28</td>\n",
       "      <td>13.3</td>\n",
       "      <td>8</td>\n",
       "      <td>350.0</td>\n",
       "      <td>245</td>\n",
       "      <td>3.73</td>\n",
       "      <td>3.840</td>\n",
       "      <td>15.41</td>\n",
       "      <td>0</td>\n",
       "      <td>0</td>\n",
       "      <td>3</td>\n",
       "      <td>4</td>\n",
       "    </tr>\n",
       "    <tr>\n",
       "      <td>Pontiac Firebird</td>\n",
       "      <td>Pontiac Firebird</td>\n",
       "      <td>19.2</td>\n",
       "      <td>8</td>\n",
       "      <td>400.0</td>\n",
       "      <td>175</td>\n",
       "      <td>3.08</td>\n",
       "      <td>3.845</td>\n",
       "      <td>17.05</td>\n",
       "      <td>0</td>\n",
       "      <td>0</td>\n",
       "      <td>3</td>\n",
       "      <td>2</td>\n",
       "    </tr>\n",
       "    <tr>\n",
       "      <td>Fiat X1-9</td>\n",
       "      <td>Fiat X1-9</td>\n",
       "      <td>27.3</td>\n",
       "      <td>4</td>\n",
       "      <td>79.0</td>\n",
       "      <td>66</td>\n",
       "      <td>4.08</td>\n",
       "      <td>1.935</td>\n",
       "      <td>18.90</td>\n",
       "      <td>1</td>\n",
       "      <td>1</td>\n",
       "      <td>4</td>\n",
       "      <td>1</td>\n",
       "    </tr>\n",
       "    <tr>\n",
       "      <td>Porsche 914-2</td>\n",
       "      <td>Porsche 914-2</td>\n",
       "      <td>26.0</td>\n",
       "      <td>4</td>\n",
       "      <td>120.3</td>\n",
       "      <td>91</td>\n",
       "      <td>4.43</td>\n",
       "      <td>2.140</td>\n",
       "      <td>16.70</td>\n",
       "      <td>0</td>\n",
       "      <td>1</td>\n",
       "      <td>5</td>\n",
       "      <td>2</td>\n",
       "    </tr>\n",
       "    <tr>\n",
       "      <td>Lotus Europa</td>\n",
       "      <td>Lotus Europa</td>\n",
       "      <td>30.4</td>\n",
       "      <td>4</td>\n",
       "      <td>95.1</td>\n",
       "      <td>113</td>\n",
       "      <td>3.77</td>\n",
       "      <td>1.513</td>\n",
       "      <td>16.90</td>\n",
       "      <td>1</td>\n",
       "      <td>1</td>\n",
       "      <td>5</td>\n",
       "      <td>2</td>\n",
       "    </tr>\n",
       "    <tr>\n",
       "      <td>Ford Pantera L</td>\n",
       "      <td>Ford Pantera L</td>\n",
       "      <td>15.8</td>\n",
       "      <td>8</td>\n",
       "      <td>351.0</td>\n",
       "      <td>264</td>\n",
       "      <td>4.22</td>\n",
       "      <td>3.170</td>\n",
       "      <td>14.50</td>\n",
       "      <td>0</td>\n",
       "      <td>1</td>\n",
       "      <td>5</td>\n",
       "      <td>4</td>\n",
       "    </tr>\n",
       "    <tr>\n",
       "      <td>Ferrari Dino</td>\n",
       "      <td>Ferrari Dino</td>\n",
       "      <td>19.7</td>\n",
       "      <td>6</td>\n",
       "      <td>145.0</td>\n",
       "      <td>175</td>\n",
       "      <td>3.62</td>\n",
       "      <td>2.770</td>\n",
       "      <td>15.50</td>\n",
       "      <td>0</td>\n",
       "      <td>1</td>\n",
       "      <td>5</td>\n",
       "      <td>6</td>\n",
       "    </tr>\n",
       "    <tr>\n",
       "      <td>Maserati Bora</td>\n",
       "      <td>Maserati Bora</td>\n",
       "      <td>15.0</td>\n",
       "      <td>8</td>\n",
       "      <td>301.0</td>\n",
       "      <td>335</td>\n",
       "      <td>3.54</td>\n",
       "      <td>3.570</td>\n",
       "      <td>14.60</td>\n",
       "      <td>0</td>\n",
       "      <td>1</td>\n",
       "      <td>5</td>\n",
       "      <td>8</td>\n",
       "    </tr>\n",
       "    <tr>\n",
       "      <td>Volvo 142E</td>\n",
       "      <td>Volvo 142E</td>\n",
       "      <td>21.4</td>\n",
       "      <td>4</td>\n",
       "      <td>121.0</td>\n",
       "      <td>109</td>\n",
       "      <td>4.11</td>\n",
       "      <td>2.780</td>\n",
       "      <td>18.60</td>\n",
       "      <td>1</td>\n",
       "      <td>1</td>\n",
       "      <td>4</td>\n",
       "      <td>2</td>\n",
       "    </tr>\n",
       "  </tbody>\n",
       "</table>\n",
       "</div>"
      ],
      "text/plain": [
       "                                    name   mpg  cyl   disp   hp  drat     wt  \\\n",
       "name                                                                           \n",
       "Mazda RX4                      Mazda RX4  21.0    6  160.0  110  3.90  2.620   \n",
       "Mazda RX4 Wag              Mazda RX4 Wag  21.0    6  160.0  110  3.90  2.875   \n",
       "Datsun 710                    Datsun 710  22.8    4  108.0   93  3.85  2.320   \n",
       "Hornet 4 Drive            Hornet 4 Drive  21.4    6  258.0  110  3.08  3.215   \n",
       "Hornet Sportabout      Hornet Sportabout  18.7    8  360.0  175  3.15  3.440   \n",
       "Valiant                          Valiant  18.1    6  225.0  105  2.76  3.460   \n",
       "Duster 360                    Duster 360  14.3    8  360.0  245  3.21  3.570   \n",
       "Merc 240D                      Merc 240D  24.4    4  146.7   62  3.69  3.190   \n",
       "Merc 230                        Merc 230  22.8    4  140.8   95  3.92  3.150   \n",
       "Merc 280                        Merc 280  19.2    6  167.6  123  3.92  3.440   \n",
       "Merc 280C                      Merc 280C  17.8    6  167.6  123  3.92  3.440   \n",
       "Merc 450SE                    Merc 450SE  16.4    8  275.8  180  3.07  4.070   \n",
       "Merc 450SL                    Merc 450SL  17.3    8  275.8  180  3.07  3.730   \n",
       "Merc 450SLC                  Merc 450SLC  15.2    8  275.8  180  3.07  3.780   \n",
       "Cadillac Fleetwood    Cadillac Fleetwood  10.4    8  472.0  205  2.93  5.250   \n",
       "Lincoln Continental  Lincoln Continental  10.4    8  460.0  215  3.00  5.424   \n",
       "Chrysler Imperial      Chrysler Imperial  14.7    8  440.0  230  3.23  5.345   \n",
       "Fiat 128                        Fiat 128  32.4    4   78.7   66  4.08  2.200   \n",
       "Honda Civic                  Honda Civic  30.4    4   75.7   52  4.93  1.615   \n",
       "Toyota Corolla            Toyota Corolla  33.9    4   71.1   65  4.22  1.835   \n",
       "Toyota Corona              Toyota Corona  21.5    4  120.1   97  3.70  2.465   \n",
       "Dodge Challenger        Dodge Challenger  15.5    8  318.0  150  2.76  3.520   \n",
       "AMC Javelin                  AMC Javelin  15.2    8  304.0  150  3.15  3.435   \n",
       "Camaro Z28                    Camaro Z28  13.3    8  350.0  245  3.73  3.840   \n",
       "Pontiac Firebird        Pontiac Firebird  19.2    8  400.0  175  3.08  3.845   \n",
       "Fiat X1-9                      Fiat X1-9  27.3    4   79.0   66  4.08  1.935   \n",
       "Porsche 914-2              Porsche 914-2  26.0    4  120.3   91  4.43  2.140   \n",
       "Lotus Europa                Lotus Europa  30.4    4   95.1  113  3.77  1.513   \n",
       "Ford Pantera L            Ford Pantera L  15.8    8  351.0  264  4.22  3.170   \n",
       "Ferrari Dino                Ferrari Dino  19.7    6  145.0  175  3.62  2.770   \n",
       "Maserati Bora              Maserati Bora  15.0    8  301.0  335  3.54  3.570   \n",
       "Volvo 142E                    Volvo 142E  21.4    4  121.0  109  4.11  2.780   \n",
       "\n",
       "                      qsec  vs  am  gear  carb  \n",
       "name                                            \n",
       "Mazda RX4            16.46   0   1     4     4  \n",
       "Mazda RX4 Wag        17.02   0   1     4     4  \n",
       "Datsun 710           18.61   1   1     4     1  \n",
       "Hornet 4 Drive       19.44   1   0     3     1  \n",
       "Hornet Sportabout    17.02   0   0     3     2  \n",
       "Valiant              20.22   1   0     3     1  \n",
       "Duster 360           15.84   0   0     3     4  \n",
       "Merc 240D            20.00   1   0     4     2  \n",
       "Merc 230             22.90   1   0     4     2  \n",
       "Merc 280             18.30   1   0     4     4  \n",
       "Merc 280C            18.90   1   0     4     4  \n",
       "Merc 450SE           17.40   0   0     3     3  \n",
       "Merc 450SL           17.60   0   0     3     3  \n",
       "Merc 450SLC          18.00   0   0     3     3  \n",
       "Cadillac Fleetwood   17.98   0   0     3     4  \n",
       "Lincoln Continental  17.82   0   0     3     4  \n",
       "Chrysler Imperial    17.42   0   0     3     4  \n",
       "Fiat 128             19.47   1   1     4     1  \n",
       "Honda Civic          18.52   1   1     4     2  \n",
       "Toyota Corolla       19.90   1   1     4     1  \n",
       "Toyota Corona        20.01   1   0     3     1  \n",
       "Dodge Challenger     16.87   0   0     3     2  \n",
       "AMC Javelin          17.30   0   0     3     2  \n",
       "Camaro Z28           15.41   0   0     3     4  \n",
       "Pontiac Firebird     17.05   0   0     3     2  \n",
       "Fiat X1-9            18.90   1   1     4     1  \n",
       "Porsche 914-2        16.70   0   1     5     2  \n",
       "Lotus Europa         16.90   1   1     5     2  \n",
       "Ford Pantera L       14.50   0   1     5     4  \n",
       "Ferrari Dino         15.50   0   1     5     6  \n",
       "Maserati Bora        14.60   0   1     5     8  \n",
       "Volvo 142E           18.60   1   1     4     2  "
      ]
     },
     "execution_count": 134,
     "metadata": {},
     "output_type": "execute_result"
    }
   ],
   "source": [
    "## Reading a dataset from a csv file using pandas.\n",
    "mtcars = pd.read_csv('mtcars.csv')\n",
    "mtcars.index = mtcars['name']\n",
    "\n",
    "mtcars"
   ]
  },
  {
   "cell_type": "markdown",
   "metadata": {
    "colab_type": "text",
    "id": "fnMpKP0Tg-EO"
   },
   "source": [
    "Following questions are based on analysing a particular dataset using dataframes."
   ]
  },
  {
   "cell_type": "markdown",
   "metadata": {
    "colab_type": "text",
    "id": "NPf-3Gnxg-EP"
   },
   "source": [
    "### Question 5\n",
    "\n",
    "Check the type and dimensions of given dataset - mtcars.\n",
    "\n",
    "\n",
    "Hint: use **`type()`** and **`df.shape`**"
   ]
  },
  {
   "cell_type": "code",
   "execution_count": 142,
   "metadata": {
    "colab": {},
    "colab_type": "code",
    "id": "LFpJb7BIg-EQ"
   },
   "outputs": [
    {
     "name": "stdout",
     "output_type": "stream",
     "text": [
      "Type = \n",
      "\n",
      " name     object\n",
      "mpg     float64\n",
      "cyl       int64\n",
      "disp    float64\n",
      "hp        int64\n",
      "drat    float64\n",
      "wt      float64\n",
      "qsec    float64\n",
      "vs        int64\n",
      "am        int64\n",
      "gear      int64\n",
      "carb      int64\n",
      "dtype: object\n",
      "\n",
      "\n",
      "Shape  =  (32, 12)\n"
     ]
    }
   ],
   "source": [
    "print(\"Type = \\n\\n\", mtcars.dtypes)\n",
    "\n",
    "print(\"\\n\\nShape  = \", mtcars.shape)"
   ]
  },
  {
   "cell_type": "markdown",
   "metadata": {
    "colab_type": "text",
    "id": "nOnhJlmSg-EU"
   },
   "source": [
    "### Question 6\n",
    "\n",
    "Check the first 10 lines and last 10 lines of the given dataset- mtcars.\n",
    "\n",
    "Hint: use **`.head()`** and **`.tail()`**"
   ]
  },
  {
   "cell_type": "code",
   "execution_count": 152,
   "metadata": {
    "colab": {},
    "colab_type": "code",
    "id": "U6wQGizOg-EV"
   },
   "outputs": [
    {
     "name": "stdout",
     "output_type": "stream",
     "text": [
      "Head\n",
      "\n",
      "\n"
     ]
    },
    {
     "data": {
      "text/html": [
       "<div>\n",
       "<style scoped>\n",
       "    .dataframe tbody tr th:only-of-type {\n",
       "        vertical-align: middle;\n",
       "    }\n",
       "\n",
       "    .dataframe tbody tr th {\n",
       "        vertical-align: top;\n",
       "    }\n",
       "\n",
       "    .dataframe thead th {\n",
       "        text-align: right;\n",
       "    }\n",
       "</style>\n",
       "<table border=\"1\" class=\"dataframe\">\n",
       "  <thead>\n",
       "    <tr style=\"text-align: right;\">\n",
       "      <th></th>\n",
       "      <th>name</th>\n",
       "      <th>mpg</th>\n",
       "      <th>cyl</th>\n",
       "      <th>disp</th>\n",
       "      <th>hp</th>\n",
       "      <th>drat</th>\n",
       "      <th>wt</th>\n",
       "      <th>qsec</th>\n",
       "      <th>vs</th>\n",
       "      <th>am</th>\n",
       "      <th>gear</th>\n",
       "      <th>carb</th>\n",
       "    </tr>\n",
       "    <tr>\n",
       "      <th>name</th>\n",
       "      <th></th>\n",
       "      <th></th>\n",
       "      <th></th>\n",
       "      <th></th>\n",
       "      <th></th>\n",
       "      <th></th>\n",
       "      <th></th>\n",
       "      <th></th>\n",
       "      <th></th>\n",
       "      <th></th>\n",
       "      <th></th>\n",
       "      <th></th>\n",
       "    </tr>\n",
       "  </thead>\n",
       "  <tbody>\n",
       "    <tr>\n",
       "      <td>Mazda RX4</td>\n",
       "      <td>Mazda RX4</td>\n",
       "      <td>21.0</td>\n",
       "      <td>6</td>\n",
       "      <td>160.0</td>\n",
       "      <td>110</td>\n",
       "      <td>3.90</td>\n",
       "      <td>2.620</td>\n",
       "      <td>16.46</td>\n",
       "      <td>0</td>\n",
       "      <td>1</td>\n",
       "      <td>4</td>\n",
       "      <td>4</td>\n",
       "    </tr>\n",
       "    <tr>\n",
       "      <td>Mazda RX4 Wag</td>\n",
       "      <td>Mazda RX4 Wag</td>\n",
       "      <td>21.0</td>\n",
       "      <td>6</td>\n",
       "      <td>160.0</td>\n",
       "      <td>110</td>\n",
       "      <td>3.90</td>\n",
       "      <td>2.875</td>\n",
       "      <td>17.02</td>\n",
       "      <td>0</td>\n",
       "      <td>1</td>\n",
       "      <td>4</td>\n",
       "      <td>4</td>\n",
       "    </tr>\n",
       "    <tr>\n",
       "      <td>Datsun 710</td>\n",
       "      <td>Datsun 710</td>\n",
       "      <td>22.8</td>\n",
       "      <td>4</td>\n",
       "      <td>108.0</td>\n",
       "      <td>93</td>\n",
       "      <td>3.85</td>\n",
       "      <td>2.320</td>\n",
       "      <td>18.61</td>\n",
       "      <td>1</td>\n",
       "      <td>1</td>\n",
       "      <td>4</td>\n",
       "      <td>1</td>\n",
       "    </tr>\n",
       "    <tr>\n",
       "      <td>Hornet 4 Drive</td>\n",
       "      <td>Hornet 4 Drive</td>\n",
       "      <td>21.4</td>\n",
       "      <td>6</td>\n",
       "      <td>258.0</td>\n",
       "      <td>110</td>\n",
       "      <td>3.08</td>\n",
       "      <td>3.215</td>\n",
       "      <td>19.44</td>\n",
       "      <td>1</td>\n",
       "      <td>0</td>\n",
       "      <td>3</td>\n",
       "      <td>1</td>\n",
       "    </tr>\n",
       "    <tr>\n",
       "      <td>Hornet Sportabout</td>\n",
       "      <td>Hornet Sportabout</td>\n",
       "      <td>18.7</td>\n",
       "      <td>8</td>\n",
       "      <td>360.0</td>\n",
       "      <td>175</td>\n",
       "      <td>3.15</td>\n",
       "      <td>3.440</td>\n",
       "      <td>17.02</td>\n",
       "      <td>0</td>\n",
       "      <td>0</td>\n",
       "      <td>3</td>\n",
       "      <td>2</td>\n",
       "    </tr>\n",
       "  </tbody>\n",
       "</table>\n",
       "</div>"
      ],
      "text/plain": [
       "                                name   mpg  cyl   disp   hp  drat     wt  \\\n",
       "name                                                                       \n",
       "Mazda RX4                  Mazda RX4  21.0    6  160.0  110  3.90  2.620   \n",
       "Mazda RX4 Wag          Mazda RX4 Wag  21.0    6  160.0  110  3.90  2.875   \n",
       "Datsun 710                Datsun 710  22.8    4  108.0   93  3.85  2.320   \n",
       "Hornet 4 Drive        Hornet 4 Drive  21.4    6  258.0  110  3.08  3.215   \n",
       "Hornet Sportabout  Hornet Sportabout  18.7    8  360.0  175  3.15  3.440   \n",
       "\n",
       "                    qsec  vs  am  gear  carb  \n",
       "name                                          \n",
       "Mazda RX4          16.46   0   1     4     4  \n",
       "Mazda RX4 Wag      17.02   0   1     4     4  \n",
       "Datsun 710         18.61   1   1     4     1  \n",
       "Hornet 4 Drive     19.44   1   0     3     1  \n",
       "Hornet Sportabout  17.02   0   0     3     2  "
      ]
     },
     "execution_count": 152,
     "metadata": {},
     "output_type": "execute_result"
    }
   ],
   "source": [
    "print(\"Head\\n\\n\")\n",
    "\n",
    "mtcars.head()\n"
   ]
  },
  {
   "cell_type": "markdown",
   "metadata": {
    "colab_type": "text",
    "id": "rLiV4keIg-EZ"
   },
   "source": [
    "### Question 7\n",
    "\n",
    "Print all the column labels in the given dataset - mtcars.\n",
    "\n",
    "Hint: use **`df.columns`**"
   ]
  },
  {
   "cell_type": "code",
   "execution_count": 153,
   "metadata": {},
   "outputs": [
    {
     "name": "stdout",
     "output_type": "stream",
     "text": [
      "Tail \n",
      "\n"
     ]
    },
    {
     "data": {
      "text/html": [
       "<div>\n",
       "<style scoped>\n",
       "    .dataframe tbody tr th:only-of-type {\n",
       "        vertical-align: middle;\n",
       "    }\n",
       "\n",
       "    .dataframe tbody tr th {\n",
       "        vertical-align: top;\n",
       "    }\n",
       "\n",
       "    .dataframe thead th {\n",
       "        text-align: right;\n",
       "    }\n",
       "</style>\n",
       "<table border=\"1\" class=\"dataframe\">\n",
       "  <thead>\n",
       "    <tr style=\"text-align: right;\">\n",
       "      <th></th>\n",
       "      <th>name</th>\n",
       "      <th>mpg</th>\n",
       "      <th>cyl</th>\n",
       "      <th>disp</th>\n",
       "      <th>hp</th>\n",
       "      <th>drat</th>\n",
       "      <th>wt</th>\n",
       "      <th>qsec</th>\n",
       "      <th>vs</th>\n",
       "      <th>am</th>\n",
       "      <th>gear</th>\n",
       "      <th>carb</th>\n",
       "    </tr>\n",
       "    <tr>\n",
       "      <th>name</th>\n",
       "      <th></th>\n",
       "      <th></th>\n",
       "      <th></th>\n",
       "      <th></th>\n",
       "      <th></th>\n",
       "      <th></th>\n",
       "      <th></th>\n",
       "      <th></th>\n",
       "      <th></th>\n",
       "      <th></th>\n",
       "      <th></th>\n",
       "      <th></th>\n",
       "    </tr>\n",
       "  </thead>\n",
       "  <tbody>\n",
       "    <tr>\n",
       "      <td>Lotus Europa</td>\n",
       "      <td>Lotus Europa</td>\n",
       "      <td>30.4</td>\n",
       "      <td>4</td>\n",
       "      <td>95.1</td>\n",
       "      <td>113</td>\n",
       "      <td>3.77</td>\n",
       "      <td>1.513</td>\n",
       "      <td>16.9</td>\n",
       "      <td>1</td>\n",
       "      <td>1</td>\n",
       "      <td>5</td>\n",
       "      <td>2</td>\n",
       "    </tr>\n",
       "    <tr>\n",
       "      <td>Ford Pantera L</td>\n",
       "      <td>Ford Pantera L</td>\n",
       "      <td>15.8</td>\n",
       "      <td>8</td>\n",
       "      <td>351.0</td>\n",
       "      <td>264</td>\n",
       "      <td>4.22</td>\n",
       "      <td>3.170</td>\n",
       "      <td>14.5</td>\n",
       "      <td>0</td>\n",
       "      <td>1</td>\n",
       "      <td>5</td>\n",
       "      <td>4</td>\n",
       "    </tr>\n",
       "    <tr>\n",
       "      <td>Ferrari Dino</td>\n",
       "      <td>Ferrari Dino</td>\n",
       "      <td>19.7</td>\n",
       "      <td>6</td>\n",
       "      <td>145.0</td>\n",
       "      <td>175</td>\n",
       "      <td>3.62</td>\n",
       "      <td>2.770</td>\n",
       "      <td>15.5</td>\n",
       "      <td>0</td>\n",
       "      <td>1</td>\n",
       "      <td>5</td>\n",
       "      <td>6</td>\n",
       "    </tr>\n",
       "    <tr>\n",
       "      <td>Maserati Bora</td>\n",
       "      <td>Maserati Bora</td>\n",
       "      <td>15.0</td>\n",
       "      <td>8</td>\n",
       "      <td>301.0</td>\n",
       "      <td>335</td>\n",
       "      <td>3.54</td>\n",
       "      <td>3.570</td>\n",
       "      <td>14.6</td>\n",
       "      <td>0</td>\n",
       "      <td>1</td>\n",
       "      <td>5</td>\n",
       "      <td>8</td>\n",
       "    </tr>\n",
       "    <tr>\n",
       "      <td>Volvo 142E</td>\n",
       "      <td>Volvo 142E</td>\n",
       "      <td>21.4</td>\n",
       "      <td>4</td>\n",
       "      <td>121.0</td>\n",
       "      <td>109</td>\n",
       "      <td>4.11</td>\n",
       "      <td>2.780</td>\n",
       "      <td>18.6</td>\n",
       "      <td>1</td>\n",
       "      <td>1</td>\n",
       "      <td>4</td>\n",
       "      <td>2</td>\n",
       "    </tr>\n",
       "  </tbody>\n",
       "</table>\n",
       "</div>"
      ],
      "text/plain": [
       "                          name   mpg  cyl   disp   hp  drat     wt  qsec  vs  \\\n",
       "name                                                                           \n",
       "Lotus Europa      Lotus Europa  30.4    4   95.1  113  3.77  1.513  16.9   1   \n",
       "Ford Pantera L  Ford Pantera L  15.8    8  351.0  264  4.22  3.170  14.5   0   \n",
       "Ferrari Dino      Ferrari Dino  19.7    6  145.0  175  3.62  2.770  15.5   0   \n",
       "Maserati Bora    Maserati Bora  15.0    8  301.0  335  3.54  3.570  14.6   0   \n",
       "Volvo 142E          Volvo 142E  21.4    4  121.0  109  4.11  2.780  18.6   1   \n",
       "\n",
       "                am  gear  carb  \n",
       "name                            \n",
       "Lotus Europa     1     5     2  \n",
       "Ford Pantera L   1     5     4  \n",
       "Ferrari Dino     1     5     6  \n",
       "Maserati Bora    1     5     8  \n",
       "Volvo 142E       1     4     2  "
      ]
     },
     "execution_count": 153,
     "metadata": {},
     "output_type": "execute_result"
    }
   ],
   "source": [
    "print(\"Tail \\n\")\n",
    "\n",
    "mtcars.tail()"
   ]
  },
  {
   "cell_type": "code",
   "execution_count": 0,
   "metadata": {
    "colab": {},
    "colab_type": "code",
    "id": "sqLDakZbg-Ea"
   },
   "outputs": [],
   "source": []
  },
  {
   "cell_type": "markdown",
   "metadata": {
    "colab_type": "text",
    "id": "h9ebKeW3g-Eg"
   },
   "source": [
    "### Question 8"
   ]
  },
  {
   "cell_type": "markdown",
   "metadata": {
    "colab_type": "text",
    "id": "yfRa9nJwg-Ei"
   },
   "source": [
    "Select first 6 rows and 3 columns in mtcars dataframe.\n",
    "\n",
    "Hint: **`mtcars.ix[:, :]`** gives all rows and columns in the dataset"
   ]
  },
  {
   "cell_type": "code",
   "execution_count": 156,
   "metadata": {
    "colab": {},
    "colab_type": "code",
    "id": "13mJJO96g-Ek"
   },
   "outputs": [
    {
     "data": {
      "text/html": [
       "<div>\n",
       "<style scoped>\n",
       "    .dataframe tbody tr th:only-of-type {\n",
       "        vertical-align: middle;\n",
       "    }\n",
       "\n",
       "    .dataframe tbody tr th {\n",
       "        vertical-align: top;\n",
       "    }\n",
       "\n",
       "    .dataframe thead th {\n",
       "        text-align: right;\n",
       "    }\n",
       "</style>\n",
       "<table border=\"1\" class=\"dataframe\">\n",
       "  <thead>\n",
       "    <tr style=\"text-align: right;\">\n",
       "      <th></th>\n",
       "      <th>name</th>\n",
       "      <th>mpg</th>\n",
       "      <th>cyl</th>\n",
       "    </tr>\n",
       "    <tr>\n",
       "      <th>name</th>\n",
       "      <th></th>\n",
       "      <th></th>\n",
       "      <th></th>\n",
       "    </tr>\n",
       "  </thead>\n",
       "  <tbody>\n",
       "    <tr>\n",
       "      <td>Mazda RX4</td>\n",
       "      <td>Mazda RX4</td>\n",
       "      <td>21.0</td>\n",
       "      <td>6</td>\n",
       "    </tr>\n",
       "    <tr>\n",
       "      <td>Mazda RX4 Wag</td>\n",
       "      <td>Mazda RX4 Wag</td>\n",
       "      <td>21.0</td>\n",
       "      <td>6</td>\n",
       "    </tr>\n",
       "    <tr>\n",
       "      <td>Datsun 710</td>\n",
       "      <td>Datsun 710</td>\n",
       "      <td>22.8</td>\n",
       "      <td>4</td>\n",
       "    </tr>\n",
       "    <tr>\n",
       "      <td>Hornet 4 Drive</td>\n",
       "      <td>Hornet 4 Drive</td>\n",
       "      <td>21.4</td>\n",
       "      <td>6</td>\n",
       "    </tr>\n",
       "    <tr>\n",
       "      <td>Hornet Sportabout</td>\n",
       "      <td>Hornet Sportabout</td>\n",
       "      <td>18.7</td>\n",
       "      <td>8</td>\n",
       "    </tr>\n",
       "    <tr>\n",
       "      <td>Valiant</td>\n",
       "      <td>Valiant</td>\n",
       "      <td>18.1</td>\n",
       "      <td>6</td>\n",
       "    </tr>\n",
       "  </tbody>\n",
       "</table>\n",
       "</div>"
      ],
      "text/plain": [
       "                                name   mpg  cyl\n",
       "name                                           \n",
       "Mazda RX4                  Mazda RX4  21.0    6\n",
       "Mazda RX4 Wag          Mazda RX4 Wag  21.0    6\n",
       "Datsun 710                Datsun 710  22.8    4\n",
       "Hornet 4 Drive        Hornet 4 Drive  21.4    6\n",
       "Hornet Sportabout  Hornet Sportabout  18.7    8\n",
       "Valiant                      Valiant  18.1    6"
      ]
     },
     "execution_count": 156,
     "metadata": {},
     "output_type": "execute_result"
    }
   ],
   "source": [
    "mtcars.iloc[0:6, 0:3]"
   ]
  },
  {
   "cell_type": "markdown",
   "metadata": {
    "colab_type": "text",
    "id": "k9yEXK3Xg-Er"
   },
   "source": [
    "# Lab Brief - Statistical Learning with Python"
   ]
  },
  {
   "cell_type": "markdown",
   "metadata": {
    "colab_type": "text",
    "id": "8Ouaykm4g-Et"
   },
   "source": [
    "## Part-1"
   ]
  },
  {
   "cell_type": "markdown",
   "metadata": {
    "colab_type": "text",
    "id": "gVri8jH3g-Ev"
   },
   "source": [
    "## Measures of Data"
   ]
  },
  {
   "cell_type": "markdown",
   "metadata": {
    "colab_type": "text",
    "id": "lTNStyydg-Ex"
   },
   "source": [
    "Descriptive Statistcs are measures that summarize important features of data. Producing these descriptive statistics is a common first step to take after cleaning and preparing a dataset for further analysis. Examples are like calculating Mean or Median. In this lab, we will be looking into some of these functions and explore several new ones."
   ]
  },
  {
   "cell_type": "markdown",
   "metadata": {
    "colab_type": "text",
    "id": "YBEFOSchg-Ey"
   },
   "source": [
    "#### Measures of Central Tendency"
   ]
  },
  {
   "cell_type": "markdown",
   "metadata": {
    "colab_type": "text",
    "id": "xZ3cYNdTg-E4"
   },
   "source": [
    "Whenever you measure things of the same kind, a fairly large number of such measurements will tend to cluster around the middle value. Such a value is called a measure of \"Central Tendency\". The other terms that are used synonymously are \"Measures of Location\", or \"Statistical Averages\". "
   ]
  },
  {
   "cell_type": "code",
   "execution_count": 157,
   "metadata": {
    "colab": {},
    "colab_type": "code",
    "id": "ozcoJXxpg-E5"
   },
   "outputs": [],
   "source": [
    "import numpy as np\n",
    "import pandas as pd\n",
    "import matplotlib.pyplot as plt\n",
    "\n",
    "mtcars = pd.read_csv('mtcars.csv')"
   ]
  },
  {
   "cell_type": "markdown",
   "metadata": {
    "colab_type": "text",
    "id": "p8Q9b9dZg-E9"
   },
   "source": [
    "#### Using the mtcars dataset.\n",
    "\n",
    "For the below set of questions, we will be using the cars data from [Motor Trend Car Road Tests](http://stat.ethz.ch/R-manual/R-devel/library/datasets/html/mtcars.html)\n",
    "\n",
    "The data was extracted from the 1974 Motor Trend US magazine, and comprises fuel consumption and 10 aspects of automobile design and performance for 32 automobiles (1973–74 models). \n",
    "\n",
    "\n",
    "Details :\n",
    "    \n",
    "A data frame with 32 observations on 11 (numeric) variables.\n",
    "\n",
    "1. mpg \tMiles/(US) gallon\n",
    "2. cyl \tNumber of cylinders\n",
    "3. disp \tDisplacement (cu.in.)\n",
    "4. hp \tGross horsepower\n",
    "5. drat \tRear axle ratio\n",
    "6. wt \tWeight (1000 lbs)\n",
    "7. qsec \t1/4 mile time\n",
    "8. vs \tEngine (0 = V-shaped, 1 = straight)\n",
    "9. am \tTransmission (0 = automatic, 1 = manual)\n",
    "10. gear \tNumber of forward gears\n",
    "11. carb \tNumber of carburetors "
   ]
  },
  {
   "cell_type": "markdown",
   "metadata": {
    "colab_type": "text",
    "id": "01U1wIfRg-FB"
   },
   "source": [
    "#### Explore the data - Setting the index"
   ]
  },
  {
   "cell_type": "code",
   "execution_count": 158,
   "metadata": {
    "colab": {},
    "colab_type": "code",
    "id": "6I4jdcxRg-FG",
    "outputId": "75549595-dab6-4ae4-80f4-82f0d59908b1"
   },
   "outputs": [
    {
     "data": {
      "text/html": [
       "<div>\n",
       "<style scoped>\n",
       "    .dataframe tbody tr th:only-of-type {\n",
       "        vertical-align: middle;\n",
       "    }\n",
       "\n",
       "    .dataframe tbody tr th {\n",
       "        vertical-align: top;\n",
       "    }\n",
       "\n",
       "    .dataframe thead th {\n",
       "        text-align: right;\n",
       "    }\n",
       "</style>\n",
       "<table border=\"1\" class=\"dataframe\">\n",
       "  <thead>\n",
       "    <tr style=\"text-align: right;\">\n",
       "      <th></th>\n",
       "      <th>name</th>\n",
       "      <th>mpg</th>\n",
       "      <th>cyl</th>\n",
       "      <th>disp</th>\n",
       "      <th>hp</th>\n",
       "      <th>drat</th>\n",
       "      <th>wt</th>\n",
       "      <th>qsec</th>\n",
       "      <th>vs</th>\n",
       "      <th>am</th>\n",
       "      <th>gear</th>\n",
       "      <th>carb</th>\n",
       "    </tr>\n",
       "    <tr>\n",
       "      <th>name</th>\n",
       "      <th></th>\n",
       "      <th></th>\n",
       "      <th></th>\n",
       "      <th></th>\n",
       "      <th></th>\n",
       "      <th></th>\n",
       "      <th></th>\n",
       "      <th></th>\n",
       "      <th></th>\n",
       "      <th></th>\n",
       "      <th></th>\n",
       "      <th></th>\n",
       "    </tr>\n",
       "  </thead>\n",
       "  <tbody>\n",
       "    <tr>\n",
       "      <td>Mazda RX4</td>\n",
       "      <td>Mazda RX4</td>\n",
       "      <td>21.0</td>\n",
       "      <td>6</td>\n",
       "      <td>160.0</td>\n",
       "      <td>110</td>\n",
       "      <td>3.90</td>\n",
       "      <td>2.620</td>\n",
       "      <td>16.46</td>\n",
       "      <td>0</td>\n",
       "      <td>1</td>\n",
       "      <td>4</td>\n",
       "      <td>4</td>\n",
       "    </tr>\n",
       "    <tr>\n",
       "      <td>Mazda RX4 Wag</td>\n",
       "      <td>Mazda RX4 Wag</td>\n",
       "      <td>21.0</td>\n",
       "      <td>6</td>\n",
       "      <td>160.0</td>\n",
       "      <td>110</td>\n",
       "      <td>3.90</td>\n",
       "      <td>2.875</td>\n",
       "      <td>17.02</td>\n",
       "      <td>0</td>\n",
       "      <td>1</td>\n",
       "      <td>4</td>\n",
       "      <td>4</td>\n",
       "    </tr>\n",
       "    <tr>\n",
       "      <td>Datsun 710</td>\n",
       "      <td>Datsun 710</td>\n",
       "      <td>22.8</td>\n",
       "      <td>4</td>\n",
       "      <td>108.0</td>\n",
       "      <td>93</td>\n",
       "      <td>3.85</td>\n",
       "      <td>2.320</td>\n",
       "      <td>18.61</td>\n",
       "      <td>1</td>\n",
       "      <td>1</td>\n",
       "      <td>4</td>\n",
       "      <td>1</td>\n",
       "    </tr>\n",
       "    <tr>\n",
       "      <td>Hornet 4 Drive</td>\n",
       "      <td>Hornet 4 Drive</td>\n",
       "      <td>21.4</td>\n",
       "      <td>6</td>\n",
       "      <td>258.0</td>\n",
       "      <td>110</td>\n",
       "      <td>3.08</td>\n",
       "      <td>3.215</td>\n",
       "      <td>19.44</td>\n",
       "      <td>1</td>\n",
       "      <td>0</td>\n",
       "      <td>3</td>\n",
       "      <td>1</td>\n",
       "    </tr>\n",
       "    <tr>\n",
       "      <td>Hornet Sportabout</td>\n",
       "      <td>Hornet Sportabout</td>\n",
       "      <td>18.7</td>\n",
       "      <td>8</td>\n",
       "      <td>360.0</td>\n",
       "      <td>175</td>\n",
       "      <td>3.15</td>\n",
       "      <td>3.440</td>\n",
       "      <td>17.02</td>\n",
       "      <td>0</td>\n",
       "      <td>0</td>\n",
       "      <td>3</td>\n",
       "      <td>2</td>\n",
       "    </tr>\n",
       "  </tbody>\n",
       "</table>\n",
       "</div>"
      ],
      "text/plain": [
       "                                name   mpg  cyl   disp   hp  drat     wt  \\\n",
       "name                                                                       \n",
       "Mazda RX4                  Mazda RX4  21.0    6  160.0  110  3.90  2.620   \n",
       "Mazda RX4 Wag          Mazda RX4 Wag  21.0    6  160.0  110  3.90  2.875   \n",
       "Datsun 710                Datsun 710  22.8    4  108.0   93  3.85  2.320   \n",
       "Hornet 4 Drive        Hornet 4 Drive  21.4    6  258.0  110  3.08  3.215   \n",
       "Hornet Sportabout  Hornet Sportabout  18.7    8  360.0  175  3.15  3.440   \n",
       "\n",
       "                    qsec  vs  am  gear  carb  \n",
       "name                                          \n",
       "Mazda RX4          16.46   0   1     4     4  \n",
       "Mazda RX4 Wag      17.02   0   1     4     4  \n",
       "Datsun 710         18.61   1   1     4     1  \n",
       "Hornet 4 Drive     19.44   1   0     3     1  \n",
       "Hornet Sportabout  17.02   0   0     3     2  "
      ]
     },
     "execution_count": 158,
     "metadata": {},
     "output_type": "execute_result"
    }
   ],
   "source": [
    "mtcars.index = mtcars[\"name\"]\n",
    "mtcars.head()"
   ]
  },
  {
   "cell_type": "markdown",
   "metadata": {
    "colab_type": "text",
    "id": "o52JGEkKg-FO"
   },
   "source": [
    "### Question 1\n",
    "\n",
    "What is the first car name given in mtcars?\n",
    "\n",
    "Make use of index which has been set previously\n",
    "\n",
    "Hint: Use **`.loc`** function\n"
   ]
  },
  {
   "cell_type": "code",
   "execution_count": 182,
   "metadata": {
    "colab": {},
    "colab_type": "code",
    "id": "QFwQFz6Jg-FQ",
    "scrolled": true
   },
   "outputs": [
    {
     "data": {
      "text/plain": [
       "name    Mazda RX4\n",
       "mpg            21\n",
       "cyl             6\n",
       "disp          160\n",
       "hp            110\n",
       "drat          3.9\n",
       "wt           2.62\n",
       "qsec        16.46\n",
       "vs              0\n",
       "am              1\n",
       "gear            4\n",
       "carb            4\n",
       "Name: Mazda RX4, dtype: object"
      ]
     },
     "execution_count": 182,
     "metadata": {},
     "output_type": "execute_result"
    }
   ],
   "source": [
    "mtcars.loc[mtcars.index[0]]"
   ]
  },
  {
   "cell_type": "markdown",
   "metadata": {
    "colab_type": "text",
    "id": "cYG4_M3ig-FT"
   },
   "source": [
    "### Question 2\n",
    "What is the highest difference between the hp and cyl?\n",
    "\n",
    "**Hint:** You can use **max()** function to find the difference"
   ]
  },
  {
   "cell_type": "code",
   "execution_count": 196,
   "metadata": {
    "colab": {},
    "colab_type": "code",
    "id": "HnOmZ4Ddg-FU"
   },
   "outputs": [
    {
     "data": {
      "text/plain": [
       "327"
      ]
     },
     "execution_count": 196,
     "metadata": {},
     "output_type": "execute_result"
    }
   ],
   "source": [
    "#print(\"HP\", mtcars.hp, mtcars)\n",
    "\n",
    "#max(mtcars.hp) - min(mtcars.hp)\n",
    "#max(mtcars.cyl) - min(mtcars.cyl)\n",
    " \n",
    "#print(\"\\nMax diff of HP = \",max(mtcars.hp) - min(mtcars.hp) )\n",
    "\n",
    "max(mtcars.hp-mtcars.cyl)\n"
   ]
  },
  {
   "cell_type": "markdown",
   "metadata": {
    "colab_type": "text",
    "id": "aYYCAjqmg-FY"
   },
   "source": [
    "### Question 3\n",
    "What are the cars having highest weight(wt) and lowest weight(wt)?\n",
    "\n",
    "**Hint:** Use idxmax() and idxmin() to locate the row\n",
    "\n",
    "**Note:** Both idxmax and idxmin belong to pandas"
   ]
  },
  {
   "cell_type": "code",
   "execution_count": 213,
   "metadata": {
    "colab": {},
    "colab_type": "code",
    "id": "nbN-jTJbg-Fa"
   },
   "outputs": [
    {
     "data": {
      "text/plain": [
       "'Lincoln Continental'"
      ]
     },
     "execution_count": 213,
     "metadata": {},
     "output_type": "execute_result"
    }
   ],
   "source": [
    "mtcars.wt.idxmax()\n"
   ]
  },
  {
   "cell_type": "code",
   "execution_count": 214,
   "metadata": {
    "colab": {},
    "colab_type": "code",
    "id": "Zn6cBisjg-Fi"
   },
   "outputs": [
    {
     "data": {
      "text/plain": [
       "'Lotus Europa'"
      ]
     },
     "execution_count": 214,
     "metadata": {},
     "output_type": "execute_result"
    }
   ],
   "source": [
    "mtcars.wt.idxmin()"
   ]
  },
  {
   "cell_type": "markdown",
   "metadata": {
    "colab_type": "text",
    "id": "RLEwqUULg-Fr"
   },
   "source": [
    "### Question 4\n",
    "\n",
    "Find the mean of each row and each column in the given dataset.\n",
    "\n",
    "**Hint:** Use .mean() function. To operate on rows use **axis=0**, on columns use **axis=1**"
   ]
  },
  {
   "cell_type": "code",
   "execution_count": 228,
   "metadata": {
    "colab": {},
    "colab_type": "code",
    "id": "vzCuNT8fg-Ft"
   },
   "outputs": [
    {
     "data": {
      "text/plain": [
       "mpg      20.090625\n",
       "cyl       6.187500\n",
       "disp    230.721875\n",
       "hp      146.687500\n",
       "drat      3.596563\n",
       "wt        3.217250\n",
       "qsec     17.848750\n",
       "vs        0.437500\n",
       "am        0.406250\n",
       "gear      3.687500\n",
       "carb      2.812500\n",
       "dtype: float64"
      ]
     },
     "execution_count": 228,
     "metadata": {},
     "output_type": "execute_result"
    }
   ],
   "source": [
    "mtcars.mean(axis=0)\n"
   ]
  },
  {
   "cell_type": "markdown",
   "metadata": {
    "colab_type": "text",
    "id": "bCLrSkQtg-F6"
   },
   "source": [
    "## Part 2"
   ]
  },
  {
   "cell_type": "code",
   "execution_count": 229,
   "metadata": {},
   "outputs": [
    {
     "data": {
      "text/plain": [
       "name\n",
       "Mazda RX4              29.907273\n",
       "Mazda RX4 Wag          29.981364\n",
       "Datsun 710             23.598182\n",
       "Hornet 4 Drive         38.739545\n",
       "Hornet Sportabout      53.664545\n",
       "Valiant                35.049091\n",
       "Duster 360             59.720000\n",
       "Merc 240D              24.634545\n",
       "Merc 230               27.233636\n",
       "Merc 280               31.860000\n",
       "Merc 280C              31.787273\n",
       "Merc 450SE             46.430909\n",
       "Merc 450SL             46.500000\n",
       "Merc 450SLC            46.350000\n",
       "Cadillac Fleetwood     66.232727\n",
       "Lincoln Continental    66.058545\n",
       "Chrysler Imperial      65.972273\n",
       "Fiat 128               19.440909\n",
       "Honda Civic            17.742273\n",
       "Toyota Corolla         18.814091\n",
       "Toyota Corona          24.888636\n",
       "Dodge Challenger       47.240909\n",
       "AMC Javelin            46.007727\n",
       "Camaro Z28             58.752727\n",
       "Pontiac Firebird       57.379545\n",
       "Fiat X1-9              18.928636\n",
       "Porsche 914-2          24.779091\n",
       "Lotus Europa           24.880273\n",
       "Ford Pantera L         60.971818\n",
       "Ferrari Dino           34.508182\n",
       "Maserati Bora          63.155455\n",
       "Volvo 142E             26.262727\n",
       "dtype: float64"
      ]
     },
     "execution_count": 229,
     "metadata": {},
     "output_type": "execute_result"
    }
   ],
   "source": [
    "mtcars.mean(axis=1)"
   ]
  },
  {
   "cell_type": "markdown",
   "metadata": {
    "colab_type": "text",
    "id": "8cB1eTsKg-F8"
   },
   "source": [
    "## Measures of Dispersion"
   ]
  },
  {
   "cell_type": "markdown",
   "metadata": {
    "colab_type": "text",
    "id": "zxdo-3rwg-F-"
   },
   "source": [
    "Measures of Dispersion (Spread) are statistics that describe how data varies. Measure of dispersion gives us the sense of how much the data tends to diverge from the central tendency."
   ]
  },
  {
   "cell_type": "markdown",
   "metadata": {
    "colab_type": "text",
    "id": "DR9Grg5Cg-GC"
   },
   "source": [
    "### Question 5\n",
    "\n",
    "What is the range of `mpg` in the given dataset?\n",
    "\n",
    "**Hint:** Range = max - min"
   ]
  },
  {
   "cell_type": "code",
   "execution_count": 240,
   "metadata": {
    "colab": {},
    "colab_type": "code",
    "id": "uFyt6V0Ig-GD"
   },
   "outputs": [
    {
     "data": {
      "text/plain": [
       "23.5"
      ]
     },
     "execution_count": 240,
     "metadata": {},
     "output_type": "execute_result"
    }
   ],
   "source": [
    "max(mtcars.mpg)-min(mtcars.mpg)"
   ]
  },
  {
   "cell_type": "markdown",
   "metadata": {
    "colab_type": "text",
    "id": "Rw352noXg-GG"
   },
   "source": [
    "### Question 6\n",
    "\n",
    "Calculate the 25th quantile (lower quantile) for `mpg` in the given dataset.\n",
    "\n",
    "**Hint:** Use **.quantile()**"
   ]
  },
  {
   "cell_type": "code",
   "execution_count": 244,
   "metadata": {
    "colab": {},
    "colab_type": "code",
    "id": "BmKwHO5Ig-GH"
   },
   "outputs": [
    {
     "data": {
      "text/plain": [
       "15.425"
      ]
     },
     "execution_count": 244,
     "metadata": {},
     "output_type": "execute_result"
    }
   ],
   "source": [
    "mtcars.mpg.quantile(0.25)"
   ]
  },
  {
   "cell_type": "markdown",
   "metadata": {
    "colab_type": "text",
    "id": "KD7SjI38g-GK"
   },
   "source": [
    "### Question 7\n",
    "\n",
    "Calculate the Inter-Quartile Range (IQR) for `mpg` in the given dataset."
   ]
  },
  {
   "cell_type": "markdown",
   "metadata": {
    "colab_type": "text",
    "id": "11URRYQhg-GL"
   },
   "source": [
    "Interquartile range (IQR) is another common measure of spread. IQR is the distance between the 3rd quartile and the 1st quartile.\n",
    "\n",
    "**Hint:** IQR = Q3 - Q1"
   ]
  },
  {
   "cell_type": "code",
   "execution_count": 245,
   "metadata": {
    "colab": {},
    "colab_type": "code",
    "id": "z2jlCGOfg-GL"
   },
   "outputs": [
    {
     "data": {
      "text/plain": [
       "7.375"
      ]
     },
     "execution_count": 245,
     "metadata": {},
     "output_type": "execute_result"
    }
   ],
   "source": [
    "mtcars.mpg.quantile(0.75)-mtcars.mpg.quantile(0.25)"
   ]
  },
  {
   "cell_type": "markdown",
   "metadata": {
    "colab_type": "text",
    "id": "G2BWoTjag-GN"
   },
   "source": [
    "### Question 8\n",
    "\n",
    "Calculate the Variance, Standard Deviation and Mean Absolute Deviation for `mpg`."
   ]
  },
  {
   "cell_type": "markdown",
   "metadata": {
    "colab_type": "text",
    "id": "TZYHxjh9g-GO"
   },
   "source": [
    "Variance and Standard Deviation are two other common measure of dispersion.\n",
    "\n",
    "**Hint:** Use .var() and .std() and .mad()"
   ]
  },
  {
   "cell_type": "code",
   "execution_count": 246,
   "metadata": {
    "colab": {},
    "colab_type": "code",
    "id": "GMkl6XpHg-GU"
   },
   "outputs": [
    {
     "data": {
      "text/plain": [
       "36.32410282258065"
      ]
     },
     "execution_count": 246,
     "metadata": {},
     "output_type": "execute_result"
    }
   ],
   "source": [
    "mtcars.mpg.var()"
   ]
  },
  {
   "cell_type": "code",
   "execution_count": 247,
   "metadata": {},
   "outputs": [
    {
     "data": {
      "text/plain": [
       "6.026948052089105"
      ]
     },
     "execution_count": 247,
     "metadata": {},
     "output_type": "execute_result"
    }
   ],
   "source": [
    "mtcars.mpg.std()"
   ]
  },
  {
   "cell_type": "code",
   "execution_count": 248,
   "metadata": {},
   "outputs": [
    {
     "data": {
      "text/plain": [
       "4.714453125"
      ]
     },
     "execution_count": 248,
     "metadata": {},
     "output_type": "execute_result"
    }
   ],
   "source": [
    "mtcars.mpg.mad()"
   ]
  },
  {
   "cell_type": "code",
   "execution_count": null,
   "metadata": {},
   "outputs": [],
   "source": []
  }
 ],
 "metadata": {
  "colab": {
   "name": "R1-Lab Internal_Questions .ipynb",
   "provenance": []
  },
  "kernelspec": {
   "display_name": "Python 3",
   "language": "python",
   "name": "python3"
  },
  "language_info": {
   "codemirror_mode": {
    "name": "ipython",
    "version": 3
   },
   "file_extension": ".py",
   "mimetype": "text/x-python",
   "name": "python",
   "nbconvert_exporter": "python",
   "pygments_lexer": "ipython3",
   "version": "3.7.4"
  }
 },
 "nbformat": 4,
 "nbformat_minor": 1
}
