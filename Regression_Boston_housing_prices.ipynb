{
  "nbformat": 4,
  "nbformat_minor": 0,
  "metadata": {
    "accelerator": "GPU",
    "colab": {
      "name": "Regression - Boston housing prices.ipynb",
      "provenance": [],
      "collapsed_sections": [],
      "include_colab_link": true
    },
    "kernelspec": {
      "display_name": "Python 3",
      "language": "python",
      "name": "python3"
    },
    "language_info": {
      "codemirror_mode": {
        "name": "ipython",
        "version": 3
      },
      "file_extension": ".py",
      "mimetype": "text/x-python",
      "name": "python",
      "nbconvert_exporter": "python",
      "pygments_lexer": "ipython3",
      "version": "3.7.4"
    }
  },
  "cells": [
    {
      "cell_type": "markdown",
      "metadata": {
        "id": "view-in-github",
        "colab_type": "text"
      },
      "source": [
        "<a href=\"https://colab.research.google.com/github/kgprashant/Residency1Lab/blob/master/Regression_Boston_housing_prices.ipynb\" target=\"_parent\"><img src=\"https://colab.research.google.com/assets/colab-badge.svg\" alt=\"Open In Colab\"/></a>"
      ]
    },
    {
      "cell_type": "markdown",
      "metadata": {
        "id": "teSVc4i7wTRh"
      },
      "source": [
        "# Boston housing price regression dataset\n",
        "Dataset taken from the StatLib library which is maintained at Carnegie Mellon University.\n",
        "\n",
        "Samples contain 13 attributes of houses at different locations around the Boston suburbs in the late 1970s. Targets are the median values of the houses at a location (in k$)."
      ]
    },
    {
      "cell_type": "markdown",
      "metadata": {
        "id": "ZOk8Eu4_t70R"
      },
      "source": [
        "Firstly, let's select TensorFlow version 2.x in colab"
      ]
    },
    {
      "cell_type": "code",
      "metadata": {
        "colab": {
          "base_uri": "https://localhost:8080/",
          "height": 35
        },
        "id": "H6RZUm0p4wYJ",
        "outputId": "f655d195-57e8-4554-e947-6945277514a0"
      },
      "source": [
        "%tensorflow_version 2.x\n",
        "import tensorflow\n",
        "tensorflow.__version__"
      ],
      "execution_count": 1,
      "outputs": [
        {
          "output_type": "execute_result",
          "data": {
            "application/vnd.google.colaboratory.intrinsic+json": {
              "type": "string"
            },
            "text/plain": [
              "'2.4.1'"
            ]
          },
          "metadata": {
            "tags": []
          },
          "execution_count": 1
        }
      ]
    },
    {
      "cell_type": "code",
      "metadata": {
        "id": "TWi96z-8SyX0"
      },
      "source": [
        "# Initialize the random number generator\n",
        "import random\n",
        "random.seed(0)\n",
        "\n",
        "# Ignore the warnings\n",
        "import warnings\n",
        "warnings.filterwarnings(\"ignore\")"
      ],
      "execution_count": 2,
      "outputs": []
    },
    {
      "cell_type": "markdown",
      "metadata": {
        "id": "WjDBLreywya1"
      },
      "source": [
        "### Import dataset\n",
        "- This dataset can be imported\n",
        "- High level API Keras has some datasets available\n",
        "- You can look at all the datasets available here https://keras.io/datasets/\n"
      ]
    },
    {
      "cell_type": "code",
      "metadata": {
        "colab": {
          "base_uri": "https://localhost:8080/"
        },
        "id": "Tr_z_2YHxsz5",
        "outputId": "a1f31aa3-4f81-453c-c3a9-f73cc4365520"
      },
      "source": [
        "from tensorflow.keras.datasets import boston_housing\n",
        "\n",
        "# boston_housing.load_data() function returns 2 tuples, one for train data and \n",
        "# other for test data. We will take only train data here.\n",
        "(features, actual_prices), _ = boston_housing.load_data(test_split=0)"
      ],
      "execution_count": 3,
      "outputs": [
        {
          "output_type": "stream",
          "text": [
            "Downloading data from https://storage.googleapis.com/tensorflow/tf-keras-datasets/boston_housing.npz\n",
            "57344/57026 [==============================] - 0s 0us/step\n"
          ],
          "name": "stdout"
        }
      ]
    },
    {
      "cell_type": "markdown",
      "metadata": {
        "id": "zXfwvgh2yvI6"
      },
      "source": [
        "### Getting details of dataset\n",
        "- We will see how many rows are there in the data\n",
        "- We will check how many features are there"
      ]
    },
    {
      "cell_type": "code",
      "metadata": {
        "colab": {
          "base_uri": "https://localhost:8080/"
        },
        "id": "WTYuZMy-xsz8",
        "outputId": "f6927ed4-7c5e-42c2-dd5c-4394256bd107"
      },
      "source": [
        "print('Number of examples                 : ', features.shape[0])\n",
        "print('Number of features for each example: ', features.shape[1])\n",
        "print('Shape of actual prices data        : ', actual_prices.shape)"
      ],
      "execution_count": 4,
      "outputs": [
        {
          "output_type": "stream",
          "text": [
            "Number of examples                 :  506\n",
            "Number of features for each example:  13\n",
            "Shape of actual prices data        :  (506,)\n"
          ],
          "name": "stdout"
        }
      ]
    },
    {
      "cell_type": "markdown",
      "metadata": {
        "id": "9Jpbx46TrpNS"
      },
      "source": [
        "Let's see some values of features and labels from the dataset"
      ]
    },
    {
      "cell_type": "code",
      "metadata": {
        "colab": {
          "base_uri": "https://localhost:8080/"
        },
        "id": "ccAvp0x-rSQx",
        "outputId": "3cd3b0bb-e718-4b0f-f050-bf04e26f97aa"
      },
      "source": [
        "features[:5]"
      ],
      "execution_count": 5,
      "outputs": [
        {
          "output_type": "execute_result",
          "data": {
            "text/plain": [
              "array([[1.23247e+00, 0.00000e+00, 8.14000e+00, 0.00000e+00, 5.38000e-01,\n",
              "        6.14200e+00, 9.17000e+01, 3.97690e+00, 4.00000e+00, 3.07000e+02,\n",
              "        2.10000e+01, 3.96900e+02, 1.87200e+01],\n",
              "       [2.17700e-02, 8.25000e+01, 2.03000e+00, 0.00000e+00, 4.15000e-01,\n",
              "        7.61000e+00, 1.57000e+01, 6.27000e+00, 2.00000e+00, 3.48000e+02,\n",
              "        1.47000e+01, 3.95380e+02, 3.11000e+00],\n",
              "       [4.89822e+00, 0.00000e+00, 1.81000e+01, 0.00000e+00, 6.31000e-01,\n",
              "        4.97000e+00, 1.00000e+02, 1.33250e+00, 2.40000e+01, 6.66000e+02,\n",
              "        2.02000e+01, 3.75520e+02, 3.26000e+00],\n",
              "       [3.96100e-02, 0.00000e+00, 5.19000e+00, 0.00000e+00, 5.15000e-01,\n",
              "        6.03700e+00, 3.45000e+01, 5.98530e+00, 5.00000e+00, 2.24000e+02,\n",
              "        2.02000e+01, 3.96900e+02, 8.01000e+00],\n",
              "       [3.69311e+00, 0.00000e+00, 1.81000e+01, 0.00000e+00, 7.13000e-01,\n",
              "        6.37600e+00, 8.84000e+01, 2.56710e+00, 2.40000e+01, 6.66000e+02,\n",
              "        2.02000e+01, 3.91430e+02, 1.46500e+01]])"
            ]
          },
          "metadata": {
            "tags": []
          },
          "execution_count": 5
        }
      ]
    },
    {
      "cell_type": "code",
      "metadata": {
        "colab": {
          "base_uri": "https://localhost:8080/"
        },
        "id": "HyjV12H5rcb8",
        "outputId": "20857292-7835-4758-efe5-02091edc11a1"
      },
      "source": [
        "actual_prices[:5]"
      ],
      "execution_count": 6,
      "outputs": [
        {
          "output_type": "execute_result",
          "data": {
            "text/plain": [
              "array([15.2, 42.3, 50. , 21.1, 17.7])"
            ]
          },
          "metadata": {
            "tags": []
          },
          "execution_count": 6
        }
      ]
    },
    {
      "cell_type": "markdown",
      "metadata": {
        "id": "9N_pAGEI_RfD"
      },
      "source": [
        "### Build the model\n",
        "- The Sequential model is a linear stack of layers.\n",
        "- The model needs to know what input shape it should expect. For this reason, the first layer in a Sequential model (and only the first, because following layers can do automatic shape inference) needs to receive information about its input shape.\n",
        "- You can also simply add layers via the .add() method"
      ]
    },
    {
      "cell_type": "code",
      "metadata": {
        "id": "FHM9g9hS_RfE"
      },
      "source": [
        "# Initialize Sequential model\n",
        "model = tensorflow.keras.models.Sequential()\n",
        "\n",
        "# Normalize input data\n",
        "model.add(tensorflow.keras.layers.BatchNormalization(input_shape=(13,)))\n",
        "\n",
        "# Add final Dense layer for prediction - Tensorflow.keras declares weights and bias automatically\n",
        "model.add(tensorflow.keras.layers.Dense(1))"
      ],
      "execution_count": 8,
      "outputs": []
    },
    {
      "cell_type": "code",
      "metadata": {
        "id": "SwnhQs7JdeQH"
      },
      "source": [
        "#tensorflow.keras.models.Model.get_layers()"
      ],
      "execution_count": 15,
      "outputs": []
    },
    {
      "cell_type": "markdown",
      "metadata": {
        "id": "YJ38weGoqGEX"
      },
      "source": [
        "### Compile the model\n",
        "- Here we configure the model for training\n",
        "- We will specify an optimizer and a loss function"
      ]
    },
    {
      "cell_type": "code",
      "metadata": {
        "id": "1jTbleskqE8c"
      },
      "source": [
        "# Compile the model - add mean squared error as loss and stochastic gradient descent as optimizer\n",
        "model.compile(optimizer='sgd', loss='mse')"
      ],
      "execution_count": 16,
      "outputs": []
    },
    {
      "cell_type": "markdown",
      "metadata": {
        "id": "WQXZi2mi_RfJ"
      },
      "source": [
        "### Fit the model\n",
        "- .fit() trains the model for a fixed number of epochs (iterations on a dataset)\n",
        "- An epoch is an iteration over the entire x and y data provided"
      ]
    },
    {
      "cell_type": "code",
      "metadata": {
        "colab": {
          "base_uri": "https://localhost:8080/"
        },
        "id": "XSp7Wq5Z_RfM",
        "outputId": "51023406-7ce9-45ac-9f90-07b516a8d6ea"
      },
      "source": [
        "model.fit(features, actual_prices, epochs=100, validation_split=0.35)"
      ],
      "execution_count": 17,
      "outputs": [
        {
          "output_type": "stream",
          "text": [
            "Epoch 1/100\n",
            "11/11 [==============================] - 2s 17ms/step - loss: 352.4296 - val_loss: 1147.6305\n",
            "Epoch 2/100\n",
            "11/11 [==============================] - 0s 5ms/step - loss: 37.3470 - val_loss: 603.1915\n",
            "Epoch 3/100\n",
            "11/11 [==============================] - 0s 5ms/step - loss: 35.4827 - val_loss: 319.0426\n",
            "Epoch 4/100\n",
            "11/11 [==============================] - 0s 5ms/step - loss: 29.4526 - val_loss: 207.7704\n",
            "Epoch 5/100\n",
            "11/11 [==============================] - 0s 6ms/step - loss: 32.1437 - val_loss: 113.1241\n",
            "Epoch 6/100\n",
            "11/11 [==============================] - 0s 6ms/step - loss: 28.2007 - val_loss: 89.6463\n",
            "Epoch 7/100\n",
            "11/11 [==============================] - 0s 5ms/step - loss: 25.8823 - val_loss: 74.9590\n",
            "Epoch 8/100\n",
            "11/11 [==============================] - 0s 5ms/step - loss: 32.4282 - val_loss: 45.8079\n",
            "Epoch 9/100\n",
            "11/11 [==============================] - 0s 5ms/step - loss: 28.1623 - val_loss: 98.2486\n",
            "Epoch 10/100\n",
            "11/11 [==============================] - 0s 5ms/step - loss: 34.8843 - val_loss: 63.3183\n",
            "Epoch 11/100\n",
            "11/11 [==============================] - 0s 5ms/step - loss: 30.6754 - val_loss: 59.8930\n",
            "Epoch 12/100\n",
            "11/11 [==============================] - 0s 5ms/step - loss: 37.5520 - val_loss: 25.6242\n",
            "Epoch 13/100\n",
            "11/11 [==============================] - 0s 5ms/step - loss: 28.6106 - val_loss: 44.9388\n",
            "Epoch 14/100\n",
            "11/11 [==============================] - 0s 4ms/step - loss: 35.2771 - val_loss: 86.5816\n",
            "Epoch 15/100\n",
            "11/11 [==============================] - 0s 5ms/step - loss: 47.0687 - val_loss: 24.2144\n",
            "Epoch 16/100\n",
            "11/11 [==============================] - 0s 4ms/step - loss: 28.0552 - val_loss: 26.1248\n",
            "Epoch 17/100\n",
            "11/11 [==============================] - 0s 6ms/step - loss: 27.8391 - val_loss: 26.6076\n",
            "Epoch 18/100\n",
            "11/11 [==============================] - 0s 5ms/step - loss: 31.6602 - val_loss: 24.6784\n",
            "Epoch 19/100\n",
            "11/11 [==============================] - 0s 5ms/step - loss: 27.8255 - val_loss: 64.2937\n",
            "Epoch 20/100\n",
            "11/11 [==============================] - 0s 5ms/step - loss: 38.3446 - val_loss: 53.8743\n",
            "Epoch 21/100\n",
            "11/11 [==============================] - 0s 5ms/step - loss: 33.1505 - val_loss: 27.0991\n",
            "Epoch 22/100\n",
            "11/11 [==============================] - 0s 4ms/step - loss: 33.2567 - val_loss: 28.9899\n",
            "Epoch 23/100\n",
            "11/11 [==============================] - 0s 4ms/step - loss: 25.8225 - val_loss: 46.1287\n",
            "Epoch 24/100\n",
            "11/11 [==============================] - 0s 5ms/step - loss: 30.4370 - val_loss: 50.0870\n",
            "Epoch 25/100\n",
            "11/11 [==============================] - 0s 5ms/step - loss: 27.9992 - val_loss: 57.0876\n",
            "Epoch 26/100\n",
            "11/11 [==============================] - 0s 5ms/step - loss: 38.2335 - val_loss: 45.9575\n",
            "Epoch 27/100\n",
            "11/11 [==============================] - 0s 5ms/step - loss: 41.2265 - val_loss: 26.8508\n",
            "Epoch 28/100\n",
            "11/11 [==============================] - 0s 5ms/step - loss: 29.2238 - val_loss: 23.2485\n",
            "Epoch 29/100\n",
            "11/11 [==============================] - 0s 5ms/step - loss: 23.9913 - val_loss: 23.1598\n",
            "Epoch 30/100\n",
            "11/11 [==============================] - 0s 5ms/step - loss: 28.7421 - val_loss: 27.7314\n",
            "Epoch 31/100\n",
            "11/11 [==============================] - 0s 5ms/step - loss: 25.5305 - val_loss: 39.7853\n",
            "Epoch 32/100\n",
            "11/11 [==============================] - 0s 5ms/step - loss: 32.9768 - val_loss: 24.6580\n",
            "Epoch 33/100\n",
            "11/11 [==============================] - 0s 5ms/step - loss: 31.8441 - val_loss: 36.9704\n",
            "Epoch 34/100\n",
            "11/11 [==============================] - 0s 5ms/step - loss: 50.2790 - val_loss: 37.0092\n",
            "Epoch 35/100\n",
            "11/11 [==============================] - 0s 4ms/step - loss: 27.6853 - val_loss: 28.9068\n",
            "Epoch 36/100\n",
            "11/11 [==============================] - 0s 5ms/step - loss: 33.3607 - val_loss: 53.8173\n",
            "Epoch 37/100\n",
            "11/11 [==============================] - 0s 5ms/step - loss: 36.7015 - val_loss: 29.4395\n",
            "Epoch 38/100\n",
            "11/11 [==============================] - 0s 5ms/step - loss: 24.4114 - val_loss: 30.2451\n",
            "Epoch 39/100\n",
            "11/11 [==============================] - 0s 5ms/step - loss: 36.1101 - val_loss: 32.9615\n",
            "Epoch 40/100\n",
            "11/11 [==============================] - 0s 6ms/step - loss: 22.9876 - val_loss: 47.6958\n",
            "Epoch 41/100\n",
            "11/11 [==============================] - 0s 5ms/step - loss: 44.9835 - val_loss: 33.2971\n",
            "Epoch 42/100\n",
            "11/11 [==============================] - 0s 5ms/step - loss: 26.7029 - val_loss: 38.3928\n",
            "Epoch 43/100\n",
            "11/11 [==============================] - 0s 5ms/step - loss: 23.4029 - val_loss: 44.7226\n",
            "Epoch 44/100\n",
            "11/11 [==============================] - 0s 5ms/step - loss: 25.4087 - val_loss: 47.8284\n",
            "Epoch 45/100\n",
            "11/11 [==============================] - 0s 5ms/step - loss: 30.5242 - val_loss: 28.1341\n",
            "Epoch 46/100\n",
            "11/11 [==============================] - 0s 5ms/step - loss: 31.6940 - val_loss: 26.0128\n",
            "Epoch 47/100\n",
            "11/11 [==============================] - 0s 5ms/step - loss: 27.0894 - val_loss: 29.4389\n",
            "Epoch 48/100\n",
            "11/11 [==============================] - 0s 5ms/step - loss: 25.3875 - val_loss: 32.7403\n",
            "Epoch 49/100\n",
            "11/11 [==============================] - 0s 5ms/step - loss: 31.5056 - val_loss: 63.3796\n",
            "Epoch 50/100\n",
            "11/11 [==============================] - 0s 5ms/step - loss: 41.7693 - val_loss: 34.0505\n",
            "Epoch 51/100\n",
            "11/11 [==============================] - 0s 5ms/step - loss: 31.8250 - val_loss: 41.5927\n",
            "Epoch 52/100\n",
            "11/11 [==============================] - 0s 5ms/step - loss: 41.1957 - val_loss: 44.6266\n",
            "Epoch 53/100\n",
            "11/11 [==============================] - 0s 5ms/step - loss: 37.8600 - val_loss: 57.5624\n",
            "Epoch 54/100\n",
            "11/11 [==============================] - 0s 5ms/step - loss: 34.1224 - val_loss: 30.0174\n",
            "Epoch 55/100\n",
            "11/11 [==============================] - 0s 5ms/step - loss: 29.8142 - val_loss: 40.6123\n",
            "Epoch 56/100\n",
            "11/11 [==============================] - 0s 5ms/step - loss: 28.4184 - val_loss: 31.4910\n",
            "Epoch 57/100\n",
            "11/11 [==============================] - 0s 5ms/step - loss: 25.3152 - val_loss: 40.0221\n",
            "Epoch 58/100\n",
            "11/11 [==============================] - 0s 5ms/step - loss: 31.4574 - val_loss: 60.8100\n",
            "Epoch 59/100\n",
            "11/11 [==============================] - 0s 4ms/step - loss: 47.9160 - val_loss: 26.7887\n",
            "Epoch 60/100\n",
            "11/11 [==============================] - 0s 4ms/step - loss: 26.7359 - val_loss: 24.3604\n",
            "Epoch 61/100\n",
            "11/11 [==============================] - 0s 5ms/step - loss: 26.9316 - val_loss: 24.8505\n",
            "Epoch 62/100\n",
            "11/11 [==============================] - 0s 4ms/step - loss: 27.6374 - val_loss: 50.4438\n",
            "Epoch 63/100\n",
            "11/11 [==============================] - 0s 4ms/step - loss: 35.3389 - val_loss: 26.4320\n",
            "Epoch 64/100\n",
            "11/11 [==============================] - 0s 5ms/step - loss: 22.5803 - val_loss: 31.0582\n",
            "Epoch 65/100\n",
            "11/11 [==============================] - 0s 5ms/step - loss: 30.5088 - val_loss: 24.6531\n",
            "Epoch 66/100\n",
            "11/11 [==============================] - 0s 5ms/step - loss: 24.3172 - val_loss: 45.1800\n",
            "Epoch 67/100\n",
            "11/11 [==============================] - 0s 4ms/step - loss: 27.4798 - val_loss: 41.6144\n",
            "Epoch 68/100\n",
            "11/11 [==============================] - 0s 4ms/step - loss: 32.8519 - val_loss: 54.9832\n",
            "Epoch 69/100\n",
            "11/11 [==============================] - 0s 6ms/step - loss: 50.8361 - val_loss: 34.8159\n",
            "Epoch 70/100\n",
            "11/11 [==============================] - 0s 5ms/step - loss: 36.1918 - val_loss: 72.9819\n",
            "Epoch 71/100\n",
            "11/11 [==============================] - 0s 5ms/step - loss: 36.1090 - val_loss: 44.2197\n",
            "Epoch 72/100\n",
            "11/11 [==============================] - 0s 4ms/step - loss: 36.4920 - val_loss: 23.2769\n",
            "Epoch 73/100\n",
            "11/11 [==============================] - 0s 5ms/step - loss: 25.5512 - val_loss: 29.2353\n",
            "Epoch 74/100\n",
            "11/11 [==============================] - 0s 5ms/step - loss: 32.2755 - val_loss: 30.1928\n",
            "Epoch 75/100\n",
            "11/11 [==============================] - 0s 5ms/step - loss: 28.6113 - val_loss: 27.8198\n",
            "Epoch 76/100\n",
            "11/11 [==============================] - 0s 5ms/step - loss: 25.4226 - val_loss: 42.6463\n",
            "Epoch 77/100\n",
            "11/11 [==============================] - 0s 5ms/step - loss: 26.7642 - val_loss: 89.6876\n",
            "Epoch 78/100\n",
            "11/11 [==============================] - 0s 5ms/step - loss: 64.7938 - val_loss: 27.4786\n",
            "Epoch 79/100\n",
            "11/11 [==============================] - 0s 4ms/step - loss: 27.4663 - val_loss: 24.5366\n",
            "Epoch 80/100\n",
            "11/11 [==============================] - 0s 4ms/step - loss: 34.6957 - val_loss: 28.2962\n",
            "Epoch 81/100\n",
            "11/11 [==============================] - 0s 5ms/step - loss: 35.8196 - val_loss: 29.9128\n",
            "Epoch 82/100\n",
            "11/11 [==============================] - 0s 5ms/step - loss: 27.8408 - val_loss: 24.7448\n",
            "Epoch 83/100\n",
            "11/11 [==============================] - 0s 5ms/step - loss: 26.0003 - val_loss: 30.8434\n",
            "Epoch 84/100\n",
            "11/11 [==============================] - 0s 5ms/step - loss: 33.6306 - val_loss: 25.2527\n",
            "Epoch 85/100\n",
            "11/11 [==============================] - 0s 5ms/step - loss: 32.7508 - val_loss: 36.0446\n",
            "Epoch 86/100\n",
            "11/11 [==============================] - 0s 5ms/step - loss: 31.8629 - val_loss: 25.2201\n",
            "Epoch 87/100\n",
            "11/11 [==============================] - 0s 6ms/step - loss: 26.2709 - val_loss: 40.2272\n",
            "Epoch 88/100\n",
            "11/11 [==============================] - 0s 5ms/step - loss: 27.4167 - val_loss: 25.3264\n",
            "Epoch 89/100\n",
            "11/11 [==============================] - 0s 5ms/step - loss: 23.3749 - val_loss: 25.1511\n",
            "Epoch 90/100\n",
            "11/11 [==============================] - 0s 5ms/step - loss: 22.1633 - val_loss: 33.5875\n",
            "Epoch 91/100\n",
            "11/11 [==============================] - 0s 5ms/step - loss: 27.5690 - val_loss: 34.0522\n",
            "Epoch 92/100\n",
            "11/11 [==============================] - 0s 4ms/step - loss: 26.7480 - val_loss: 25.6246\n",
            "Epoch 93/100\n",
            "11/11 [==============================] - 0s 5ms/step - loss: 28.4799 - val_loss: 37.3483\n",
            "Epoch 94/100\n",
            "11/11 [==============================] - 0s 6ms/step - loss: 28.4479 - val_loss: 23.2838\n",
            "Epoch 95/100\n",
            "11/11 [==============================] - 0s 5ms/step - loss: 23.6100 - val_loss: 23.4715\n",
            "Epoch 96/100\n",
            "11/11 [==============================] - 0s 5ms/step - loss: 27.4190 - val_loss: 24.3226\n",
            "Epoch 97/100\n",
            "11/11 [==============================] - 0s 5ms/step - loss: 28.3997 - val_loss: 29.6646\n",
            "Epoch 98/100\n",
            "11/11 [==============================] - 0s 5ms/step - loss: 29.2365 - val_loss: 24.8425\n",
            "Epoch 99/100\n",
            "11/11 [==============================] - 0s 5ms/step - loss: 32.7389 - val_loss: 26.1882\n",
            "Epoch 100/100\n",
            "11/11 [==============================] - 0s 6ms/step - loss: 27.0399 - val_loss: 52.7819\n"
          ],
          "name": "stdout"
        },
        {
          "output_type": "execute_result",
          "data": {
            "text/plain": [
              "<tensorflow.python.keras.callbacks.History at 0x7f359a779590>"
            ]
          },
          "metadata": {
            "tags": []
          },
          "execution_count": 17
        }
      ]
    },
    {
      "cell_type": "code",
      "metadata": {
        "colab": {
          "base_uri": "https://localhost:8080/"
        },
        "id": "tNAGYz8xrNnC",
        "outputId": "6cd5f56d-4f9e-4161-e44f-0695a5b53bcd"
      },
      "source": [
        "import numpy as np\n",
        "test_x = np.reshape([1.2, 0, 8.14e+00, 0.0e+00, 5.3e-01, 6.14e+00, 9.170e+01, 3.97e+00, 4, 3.07e+02, 2.10e+01, 3.96e+02, 1.872e+01],(-1, 13))\n",
        "\n",
        "test_y = model.predict(test_x)\n",
        "\n",
        "print(test_y)"
      ],
      "execution_count": 18,
      "outputs": [
        {
          "output_type": "stream",
          "text": [
            "[[19.753885]]\n"
          ],
          "name": "stdout"
        }
      ]
    },
    {
      "cell_type": "code",
      "metadata": {
        "id": "LxuqsOaSS2Rb"
      },
      "source": [
        ""
      ],
      "execution_count": null,
      "outputs": []
    },
    {
      "cell_type": "code",
      "metadata": {
        "id": "cv8lfBLEdU6c"
      },
      "source": [
        ""
      ],
      "execution_count": null,
      "outputs": []
    },
    {
      "cell_type": "code",
      "metadata": {
        "id": "nq6qTZ_OdYnW"
      },
      "source": [
        ""
      ],
      "execution_count": null,
      "outputs": []
    }
  ]
}